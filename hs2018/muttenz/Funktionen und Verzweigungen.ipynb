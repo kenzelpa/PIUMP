{
 "cells": [
  {
   "cell_type": "markdown",
   "metadata": {
    "slideshow": {
     "slide_type": "slide"
    }
   },
   "source": [
    "# Funktionen\n",
    "-------------------\n",
    "* Fasst Befehle in \"Unterprogrammen\" zusammen.\n",
    "* Funktionen können immer wieder verwendet werden.\n",
    "* Ziel: Verhindern von Copy-Paste.\n",
    "\n",
    "**DRY-Prinzip** (<b>D</b>on't <b>R</b>epeat <b>Y</b>ourself)"
   ]
  },
  {
   "cell_type": "markdown",
   "metadata": {
    "slideshow": {
     "slide_type": "subslide"
    }
   },
   "source": [
    "Funktionen, die ihr kennt:\n",
    "\n",
    "    len(\"hallo\")\n",
    "    range(1, 2)\n",
    "    math.sqrt(5)"
   ]
  },
  {
   "cell_type": "markdown",
   "metadata": {
    "slideshow": {
     "slide_type": "slide"
    }
   },
   "source": [
    "## Eine eigene Funktion"
   ]
  },
  {
   "cell_type": "code",
   "execution_count": 1,
   "metadata": {
    "slideshow": {
     "slide_type": "subslide"
    }
   },
   "outputs": [
    {
     "name": "stdout",
     "output_type": "stream",
     "text": [
      "Hallo, Welt!\n",
      "Hallo, Welt!\n"
     ]
    }
   ],
   "source": [
    "def foo():\n",
    "    print(\"Hallo, Welt!\")\n",
    "\n",
    "foo()\n",
    "foo()"
   ]
  },
  {
   "cell_type": "markdown",
   "metadata": {
    "slideshow": {
     "slide_type": "subslide"
    }
   },
   "source": [
    "##### Aufbau einer Funktion:\n",
    "* Schlüsselwort `def`\n",
    "* Danach folgt der Name der Funktion\n",
    "* Funktionskörper wird eingerückt (Tabulator oder Leerzeichen)"
   ]
  },
  {
   "cell_type": "markdown",
   "metadata": {
    "slideshow": {
     "slide_type": "slide"
    }
   },
   "source": [
    "### Funktionen mit Argumenten"
   ]
  },
  {
   "cell_type": "markdown",
   "metadata": {
    "slideshow": {
     "slide_type": "fragment"
    }
   },
   "source": [
    "Unsere Funktion soll Grad Celsius in Grad Fahrenheit umwandeln:\n",
    "\n",
    "$F(C) = \\frac{9}{5}\\cdot C+32$"
   ]
  },
  {
   "cell_type": "code",
   "execution_count": 2,
   "metadata": {
    "slideshow": {
     "slide_type": "subslide"
    }
   },
   "outputs": [
    {
     "name": "stdout",
     "output_type": "stream",
     "text": [
      "23.0°C = 73.4°F\n"
     ]
    }
   ],
   "source": [
    "def F(C):\n",
    "    return (9.0/5)*C+32\n",
    "\n",
    "T_F = F(23)\n",
    "print(\"%.1f°C = %.1f°F\" % (23, T_F))"
   ]
  },
  {
   "cell_type": "code",
   "execution_count": 3,
   "metadata": {
    "slideshow": {
     "slide_type": "fragment"
    }
   },
   "outputs": [
    {
     "name": "stdout",
     "output_type": "stream",
     "text": [
      "37.4\n",
      "39.2\n",
      "76.6\n"
     ]
    }
   ],
   "source": [
    "T_C = 3\n",
    "F1 = F(T_C)\n",
    "F2 = F(T_C+1)\n",
    "\n",
    "print(F1)\n",
    "print(F2)\n",
    "print(F1+F2)"
   ]
  },
  {
   "cell_type": "markdown",
   "metadata": {
    "slideshow": {
     "slide_type": "slide"
    }
   },
   "source": [
    "## Lokale und globale Variablen"
   ]
  },
  {
   "cell_type": "code",
   "execution_count": null,
   "metadata": {
    "slideshow": {
     "slide_type": "slide"
    }
   },
   "outputs": [],
   "source": [
    "C_global = 32\n",
    "def F1():\n",
    "    F_wert = F(C_global)\n",
    "    return \"%.1f°C = %.1f°F\" % (C_global, F_wert)\n",
    "\n",
    "resultat = F1()\n",
    "print(resultat) # Erwartung?"
   ]
  },
  {
   "cell_type": "code",
   "execution_count": 4,
   "metadata": {
    "slideshow": {
     "slide_type": "slide"
    }
   },
   "outputs": [
    {
     "name": "stdout",
     "output_type": "stream",
     "text": [
      "32.0°C = 89.6°F\n"
     ]
    }
   ],
   "source": [
    "C_global = 32\n",
    "def F1():\n",
    "    F_wert = F(C_global)\n",
    "    return \"%.1f°C = %.1f°F\" % (C_global, F_wert)\n",
    "\n",
    "resultat = F1()\n",
    "print(resultat) # Erwartung?"
   ]
  },
  {
   "cell_type": "code",
   "execution_count": null,
   "metadata": {
    "scrolled": true,
    "slideshow": {
     "slide_type": "fragment"
    }
   },
   "outputs": [],
   "source": [
    "def F2(C):\n",
    "    F_wert = F(C)\n",
    "    return \"%.1f°C = %.1f°F\" % (C, F_wert)\n",
    "\n",
    "print(F2(32)) # Gibt aus: 32.0°C = 89.6°F\n",
    "print(F_wert) # Erwartung?"
   ]
  },
  {
   "cell_type": "code",
   "execution_count": 5,
   "metadata": {
    "slideshow": {
     "slide_type": "subslide"
    }
   },
   "outputs": [
    {
     "name": "stdout",
     "output_type": "stream",
     "text": [
      "32.0°C = 89.6°F\n"
     ]
    },
    {
     "ename": "NameError",
     "evalue": "name 'F_wert' is not defined",
     "output_type": "error",
     "traceback": [
      "\u001b[0;31m---------------------------------------------------------------------------\u001b[0m",
      "\u001b[0;31mNameError\u001b[0m                                 Traceback (most recent call last)",
      "\u001b[0;32m<ipython-input-5-69cce9d7b254>\u001b[0m in \u001b[0;36m<module>\u001b[0;34m()\u001b[0m\n\u001b[1;32m      4\u001b[0m \u001b[0;34m\u001b[0m\u001b[0m\n\u001b[1;32m      5\u001b[0m \u001b[0mprint\u001b[0m\u001b[0;34m(\u001b[0m\u001b[0mF2\u001b[0m\u001b[0;34m(\u001b[0m\u001b[0;36m32\u001b[0m\u001b[0;34m)\u001b[0m\u001b[0;34m)\u001b[0m \u001b[0;31m# Gibt aus: 32.0°C = 89.6°F\u001b[0m\u001b[0;34m\u001b[0m\u001b[0m\n\u001b[0;32m----> 6\u001b[0;31m \u001b[0mprint\u001b[0m\u001b[0;34m(\u001b[0m\u001b[0mF_wert\u001b[0m\u001b[0;34m)\u001b[0m \u001b[0;31m# Erwartung?\u001b[0m\u001b[0;34m\u001b[0m\u001b[0m\n\u001b[0m",
      "\u001b[0;31mNameError\u001b[0m: name 'F_wert' is not defined"
     ]
    }
   ],
   "source": [
    "def F2(C):\n",
    "    F_wert = F(C)\n",
    "    return \"%.1f°C = %.1f°F\" % (C, F_wert)\n",
    "\n",
    "print(F2(32)) # Gibt aus: 32.0°C = 89.6°F\n",
    "print(F_wert) # Erwartung?"
   ]
  },
  {
   "cell_type": "code",
   "execution_count": null,
   "metadata": {
    "slideshow": {
     "slide_type": "subslide"
    }
   },
   "outputs": [],
   "source": [
    "F_wert = 13\n",
    "def F3(C):\n",
    "    F_wert = F(C)\n",
    "    return \"%.1f°C = %.1f°F\" % (C, F_wert)\n",
    "\n",
    "print(F_wert) # Erwartung 1?\n",
    "print(F3(20)) # Gibt aus: 20.0°C = 68.0°F\n",
    "print(F_wert) # Erwartung 2?"
   ]
  },
  {
   "cell_type": "code",
   "execution_count": 6,
   "metadata": {
    "slideshow": {
     "slide_type": "subslide"
    }
   },
   "outputs": [
    {
     "name": "stdout",
     "output_type": "stream",
     "text": [
      "13\n",
      "20.0°C = 68.0°F\n",
      "13\n"
     ]
    }
   ],
   "source": [
    "F_wert = 13\n",
    "def F3(C):\n",
    "    F_wert = F(C)\n",
    "    return \"%.1f°C = %.1f°F\" % (C, F_wert)\n",
    "\n",
    "print(F_wert) # Erwartung 1?\n",
    "print(F3(20)) # Gibt aus: 20.0°C = 68.0°F\n",
    "print(F_wert) # Erwartung 2?"
   ]
  },
  {
   "cell_type": "code",
   "execution_count": 7,
   "metadata": {
    "slideshow": {
     "slide_type": "subslide"
    }
   },
   "outputs": [
    {
     "name": "stdout",
     "output_type": "stream",
     "text": [
      "13\n",
      "68.0\n"
     ]
    }
   ],
   "source": [
    "F_wert = 13\n",
    "def F4(C):\n",
    "    global F_wert\n",
    "    F_wert = F(C)\n",
    "    return \"%.1f°C = %.1f°F\" % (C, F_wert)\n",
    "\n",
    "print(F_wert)\n",
    "F4(20)\n",
    "print(F_wert)"
   ]
  },
  {
   "cell_type": "markdown",
   "metadata": {
    "slideshow": {
     "slide_type": "slide"
    }
   },
   "source": [
    "**WARNUNG:**\n",
    "Globale Variablen führen oft zu schwer auffindbaren Fehlern!"
   ]
  },
  {
   "cell_type": "code",
   "execution_count": null,
   "metadata": {},
   "outputs": [],
   "source": []
  }
 ],
 "metadata": {
  "celltoolbar": "Slideshow",
  "kernelspec": {
   "display_name": "Python 3",
   "language": "python",
   "name": "python3"
  },
  "language_info": {
   "codemirror_mode": {
    "name": "ipython",
    "version": 3
   },
   "file_extension": ".py",
   "mimetype": "text/x-python",
   "name": "python",
   "nbconvert_exporter": "python",
   "pygments_lexer": "ipython3",
   "version": "3.6.6"
  }
 },
 "nbformat": 4,
 "nbformat_minor": 2
}
