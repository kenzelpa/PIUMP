{
 "cells": [
  {
   "cell_type": "code",
   "execution_count": 1,
   "metadata": {
    "collapsed": true
   },
   "outputs": [],
   "source": [
    "def f(x):\n",
    "    return x**2 + 3*x + 5"
   ]
  },
  {
   "cell_type": "code",
   "execution_count": 2,
   "metadata": {
    "collapsed": false
   },
   "outputs": [
    {
     "name": "stdout",
     "output_type": "stream",
     "text": [
      "('Minimum bei x=', -1.5, ' f an dieser Stelle ist=', 2.75)\n"
     ]
    }
   ],
   "source": [
    "x0=-5\n",
    "x1=5\n",
    "step=0.0001\n",
    "xmin=x0\n",
    "for i in range(0,int((x1-x0)/step)):\n",
    "    x=x0+i*step\n",
    "    if f(x)<f(xmin):\n",
    "        xmin=x\n",
    "\n",
    "print(\"Minimum bei x=\",xmin,\" f an dieser Stelle ist=\",f(xmin))"
   ]
  },
  {
   "cell_type": "code",
   "execution_count": 4,
   "metadata": {
    "collapsed": false
   },
   "outputs": [],
   "source": [
    "def mini(f,x0,x1,step):\n",
    "    xmin=x0\n",
    "    for i in range(0,int((x1-x0)/step)):\n",
    "        x=x0+i*step\n",
    "        if f(x)<f(xmin):\n",
    "            xmin=x\n",
    "    return xmin"
   ]
  },
  {
   "cell_type": "code",
   "execution_count": 5,
   "metadata": {
    "collapsed": false
   },
   "outputs": [
    {
     "name": "stdout",
     "output_type": "stream",
     "text": [
      "('Minimum des cos bei x=', 3.1416, ' cos dort ist=', -0.9999999999730151)\n"
     ]
    }
   ],
   "source": [
    "from math import *\n",
    "xmin=mini(cos,0,5,0.0001)\n",
    "print(\"Minimum des cos bei x=\",xmin,\n",
    "      \" cos dort ist=\",cos(xmin))"
   ]
  },
  {
   "cell_type": "markdown",
   "metadata": {},
   "source": [
    "### Approximation Ableitung\n"
   ]
  },
  {
   "cell_type": "code",
   "execution_count": 6,
   "metadata": {
    "collapsed": true
   },
   "outputs": [],
   "source": [
    "def abl1(f,x): # Approximation der ersten Ableitung\n",
    "    h=0.000001\n",
    "    return (f(x+h)-f(x))/h\n",
    "\n",
    "def abl2(f,x): # Approximation der zweiten Ableitung\n",
    "    h=0.000001\n",
    "    return (abl1(f,x+h)-abl1(f,x))/h\n",
    "\n",
    "def minipar(f,x0):\n",
    "    while True:\n",
    "        a=0.5*abl2(f,x0)\n",
    "        b=abl1(f,x0)-x0*abl2(f,x0)\n",
    "        c=0.5*(x0**2*abl2(f,x0)-2*x0*abl1(f,x0)+2*f(x0))\n",
    "        x1=-b/(2*a)\n",
    "        if abs(x1-x0)<0.0000001: \n",
    "            return x1\n",
    "        x0=x1"
   ]
  },
  {
   "cell_type": "code",
   "execution_count": 7,
   "metadata": {
    "collapsed": false
   },
   "outputs": [
    {
     "data": {
      "text/plain": [
       "3.141592153648217"
      ]
     },
     "execution_count": 7,
     "metadata": {},
     "output_type": "execute_result"
    }
   ],
   "source": [
    "minipar(cos,2)"
   ]
  },
  {
   "cell_type": "code",
   "execution_count": 8,
   "metadata": {
    "collapsed": true
   },
   "outputs": [],
   "source": [
    "def oberfl(r):\n",
    "    return 1700/r+2*pi*r*r"
   ]
  },
  {
   "cell_type": "code",
   "execution_count": 9,
   "metadata": {
    "collapsed": false
   },
   "outputs": [
    {
     "data": {
      "text/plain": [
       "5.133493031442714"
      ]
     },
     "execution_count": 9,
     "metadata": {},
     "output_type": "execute_result"
    }
   ],
   "source": [
    "minipar(oberfl, 1)"
   ]
  },
  {
   "cell_type": "code",
   "execution_count": 10,
   "metadata": {
    "collapsed": false
   },
   "outputs": [
    {
     "data": {
      "text/plain": [
       "5.133"
      ]
     },
     "execution_count": 10,
     "metadata": {},
     "output_type": "execute_result"
    }
   ],
   "source": [
    "mini(oberfl, 1,10,0.001)"
   ]
  },
  {
   "cell_type": "markdown",
   "metadata": {},
   "source": [
    "Stabile Variante"
   ]
  },
  {
   "cell_type": "code",
   "execution_count": 12,
   "metadata": {
    "collapsed": true
   },
   "outputs": [],
   "source": [
    "def miniparstabil(f,x0):\n",
    "    while True:\n",
    "        a=0.5*abl2(f,x0)\n",
    "        if a<0.0001: # keine nach oben geoeffnete Parabel\n",
    "            abl=abl1(f,x0)\n",
    "            if abl>0: \n",
    "                x1=x0-0.01 # Schritt nach links\n",
    "            else:\n",
    "                if abl<0: \n",
    "                    x1=x0+0.01 # Schritt nach rechts\n",
    "                else:\n",
    "                    return x0\n",
    "          \n",
    "        else: # Normaler Iterationsschritt\n",
    "            b=abl1(f,x0)-x0*abl2(f,x0)\n",
    "            c=0.5*(x0**2*abl2(f,x0)-2*x0*abl1(f,x0)+2*f(x0))\n",
    "            x1=-b/(2*a) # Das waere der neue Wert\n",
    "            x1=x0+(x1-x0)*min(a,1) # Bei kleinem a\n",
    "                                    # nicht so weit\n",
    "        if abs(x1-x0)<0.0000001:\n",
    "            return x1\n",
    "        x0=x1"
   ]
  },
  {
   "cell_type": "code",
   "execution_count": 13,
   "metadata": {
    "collapsed": false
   },
   "outputs": [
    {
     "data": {
      "text/plain": [
       "3.1415920723535686"
      ]
     },
     "execution_count": 13,
     "metadata": {},
     "output_type": "execute_result"
    }
   ],
   "source": [
    "miniparstabil(cos,1)"
   ]
  },
  {
   "cell_type": "markdown",
   "metadata": {},
   "source": [
    "### Minimierung mit Klammerungen"
   ]
  },
  {
   "cell_type": "code",
   "execution_count": 14,
   "metadata": {
    "collapsed": true
   },
   "outputs": [],
   "source": [
    "def istKlammer(f,K):\n",
    "    return f(K[0])>=f(K[1]) and f(K[1])<=f(K[2])"
   ]
  },
  {
   "cell_type": "code",
   "execution_count": 16,
   "metadata": {
    "collapsed": false
   },
   "outputs": [],
   "source": [
    "def verbessere(f,K):\n",
    "    [a,b,c]=K\n",
    "    if not(istKlammer(f,K)):\n",
    "        print(\"!!!!!!!!!!!!, keine Klammer:\",K)\n",
    "    if istKlammer(f,[(a+b)/2.0,b,c]):\n",
    "        [a,b,c]=[(a+b)/2.0,b,c]\n",
    "    if istKlammer(f,[a,b,(c+b)/2.0]):\n",
    "        [a,b,c]=[a,b,(c+b)/2.0]\n",
    "    if istKlammer(f,[a,(a+b)/2.0,b]):\n",
    "        [a,b,c]=[a,(a+b)/2.0,b]\n",
    "    if istKlammer(f,[b,(b+c)/2.0,c]):\n",
    "        [a,b,c]=[b,(b+c)/2.0,c]\n",
    "    return [a,b,c]"
   ]
  },
  {
   "cell_type": "code",
   "execution_count": 17,
   "metadata": {
    "collapsed": true
   },
   "outputs": [],
   "source": [
    "def miniKlammer(f,K):\n",
    "    while K[2]-K[0]>0.00000001:\n",
    "        K1=verbessere(f,K)\n",
    "        if K==K1 : \n",
    "            return K\n",
    "        K=K1\n",
    "    return K"
   ]
  },
  {
   "cell_type": "code",
   "execution_count": 19,
   "metadata": {
    "collapsed": false
   },
   "outputs": [
    {
     "name": "stdout",
     "output_type": "stream",
     "text": [
      "('miniKlammer:  startwert 1,2,5 : ', [3.1415926534682512, 3.141592656262219, 3.1415926590561867])\n"
     ]
    }
   ],
   "source": [
    "print(\"miniKlammer:  startwert 1,2,5 : \",\n",
    "        miniKlammer(cos,[1,2,5]))"
   ]
  },
  {
   "cell_type": "code",
   "execution_count": 20,
   "metadata": {
    "collapsed": true
   },
   "outputs": [],
   "source": [
    "def findeKlammer(f,x0):\n",
    "    delta=0.01\n",
    "    f0=f(x0)\n",
    "    if f(x0+delta)<f0:\n",
    "        a=x0\n",
    "        b=x0+delta\n",
    "        fb=f(b)\n",
    "        for i in range(1,30):\n",
    "            if f(b+2**i*delta)>fb:\n",
    "                return [a,b,b+2**i*delta]\n",
    "    if f(x0+delta)>f0:\n",
    "        b=x0\n",
    "        c=x0+delta\n",
    "        fb=f(b)\n",
    "        for i in range(1,30):\n",
    "            if f(b-2**i*delta)>fb:\n",
    "                return [b-2**i*delta,b,c]\n",
    "    print(\"Keine Klammerung gefunden\")\n",
    "    return []\n"
   ]
  },
  {
   "cell_type": "code",
   "execution_count": 21,
   "metadata": {
    "collapsed": true
   },
   "outputs": [],
   "source": [
    "def miniK(f,x0):\n",
    "    K=findeKlammer(f,x0)\n",
    "    if K==[]: \n",
    "        return []\n",
    "    else: \n",
    "        return miniKlammer(f,K)[1]"
   ]
  },
  {
   "cell_type": "code",
   "execution_count": 22,
   "metadata": {
    "collapsed": false
   },
   "outputs": [
    {
     "name": "stdout",
     "output_type": "stream",
     "text": [
      "('miniK cos :  startwert 1 : ', 3.1415926527976987)\n"
     ]
    }
   ],
   "source": [
    "print(\"miniK cos :  startwert 1 : \", miniK(cos,2))"
   ]
  },
  {
   "cell_type": "markdown",
   "metadata": {},
   "source": [
    "## Mehrdimensionale Minimierung I\n"
   ]
  },
  {
   "cell_type": "code",
   "execution_count": 24,
   "metadata": {
    "collapsed": false
   },
   "outputs": [],
   "source": [
    "def f(x,y):\n",
    "    return sqrt((x-1)**2+(y-3)**2)+sqrt((x-5)**2+(y-2)**2)+sqrt((x-4)**2+(y-7)**2)"
   ]
  },
  {
   "cell_type": "code",
   "execution_count": 25,
   "metadata": {
    "collapsed": true
   },
   "outputs": [],
   "source": [
    "def f2test(A):\n",
    "    return (A[0]-5)**2+(A[1]-7)**2"
   ]
  },
  {
   "cell_type": "code",
   "execution_count": 26,
   "metadata": {
    "collapsed": true
   },
   "outputs": [],
   "source": [
    "x0=[1,2] # Startwert\n",
    "def fa(x):\n",
    "    x0[0]=x\n",
    "    return f2test(x0)"
   ]
  },
  {
   "cell_type": "markdown",
   "metadata": {},
   "source": [
    "Das Problem des Fermatpunktes im Dreieck (kleinste Abstandssumme) kann damit gelöst werden."
   ]
  },
  {
   "cell_type": "code",
   "execution_count": 27,
   "metadata": {
    "collapsed": true
   },
   "outputs": [],
   "source": [
    "def miniparN(f,x0): # x0 ist Liste der Startwerte\n",
    "    n=len(x0)\n",
    "    for k in range(50):\n",
    "        for i in range(n):\n",
    "            def fi(x): # wertet f aus mit ...\n",
    "                #  ... xi neu eingesetzt\n",
    "                x0[i]=x\n",
    "                return f(x0)\n",
    "            x0[i]=miniparstabil(fi,x0[i])\n",
    "    return x0"
   ]
  },
  {
   "cell_type": "code",
   "execution_count": 28,
   "metadata": {
    "collapsed": false
   },
   "outputs": [
    {
     "name": "stdout",
     "output_type": "stream",
     "text": [
      "('Minimum von f2test: ', [4.9999995, 6.9999995])\n"
     ]
    }
   ],
   "source": [
    "print(\"Minimum von f2test: \", miniparN(f2test,[1,1]))"
   ]
  },
  {
   "cell_type": "markdown",
   "metadata": {},
   "source": [
    "### Mehrdimensionale Minimierung II"
   ]
  },
  {
   "cell_type": "code",
   "execution_count": 34,
   "metadata": {
    "collapsed": true
   },
   "outputs": [],
   "source": [
    "def grad(f,x0):\n",
    "    g=[0]*len(x0) # Das wird der Gradient\n",
    "    h=0.000001\n",
    "    f0=f(x0)\n",
    "    for i in range(len(x0)):\n",
    "        x0[i]+=h # i-te Variable um h aendern\n",
    "        g[i]=(f(x0)-f0)/h\n",
    "        x0[i]+=-h  # i-te Variable zuruecksetzen\n",
    "    return g"
   ]
  },
  {
   "cell_type": "code",
   "execution_count": 35,
   "metadata": {
    "collapsed": true
   },
   "outputs": [],
   "source": [
    "def muladd(a,s,b):  # a,b, sind Vektoren (d.h. Listen),\n",
    "                      # s ist Parameter (eine Zahl)\n",
    "    # berechnet a+s*b, also Punkt auf der Geraden durch a\n",
    "    # mit Richtungsvektor b\n",
    "    ergebnis=[0]*len(a)\n",
    "    for i in range(len(a)):\n",
    "        ergebnis[i]=a[i]+s*b[i]\n",
    "    return ergebnis"
   ]
  },
  {
   "cell_type": "code",
   "execution_count": 36,
   "metadata": {
    "collapsed": true
   },
   "outputs": [],
   "source": [
    "def vbetrag(v): \n",
    "    return sqrt(sum([x**2 for x in v]))"
   ]
  },
  {
   "cell_type": "code",
   "execution_count": 37,
   "metadata": {
    "collapsed": true
   },
   "outputs": [],
   "source": [
    "def miniparNg(f,x0): # x0 ist Liste der Startwerte\n",
    "    for k in range(50): # 50 Mal ...\n",
    "        g=grad(f,x0)\n",
    "        if vbetrag(g)<0.000001: \n",
    "            return x0\n",
    "        if vbetrag(g)>10:\n",
    "            for i in range(len(g)):\n",
    "                g[i]=10*g[i]/vbetrag(g)\n",
    "        def fr(s): # Funktion in Richtung g\n",
    "            return f(muladd(x0,s,g))\n",
    "        s_optimal=miniK(fr,0) # Hier koennte auch\n",
    "                                # miniparstabil stehen\n",
    "        if abs(s_optimal)<0.0001: \n",
    "            return x0\n",
    "                 # Keine nennenswerte Aenderung\n",
    "        x0=muladd(x0,s_optimal,g)\n",
    "          # print(\"   x0=\",x0,\"g=\",g)\n",
    "    return x0\n"
   ]
  },
  {
   "cell_type": "code",
   "execution_count": 40,
   "metadata": {
    "collapsed": false
   },
   "outputs": [
    {
     "name": "stdout",
     "output_type": "stream",
     "text": [
      "('Minimum von f2test mit miniparNg: ', [4.9999996412611925, 6.999999413675006])\n"
     ]
    }
   ],
   "source": [
    "print(\"Minimum von f2test mit miniparNg: \",miniparNg(f2test,[1,1]))"
   ]
  },
  {
   "cell_type": "markdown",
   "metadata": {},
   "source": [
    "### Anwendungen der Minimierung"
   ]
  },
  {
   "cell_type": "code",
   "execution_count": 41,
   "metadata": {
    "collapsed": true
   },
   "outputs": [],
   "source": [
    "grad=pi/180"
   ]
  },
  {
   "cell_type": "code",
   "execution_count": 43,
   "metadata": {
    "collapsed": false
   },
   "outputs": [],
   "source": [
    "daten=[[0*grad,400],[10*grad,370],[20*grad,360],[45*grad,300],\n",
    "  [60*grad,200],[80*grad,80]]\n"
   ]
  },
  {
   "cell_type": "code",
   "execution_count": 44,
   "metadata": {
    "collapsed": false
   },
   "outputs": [
    {
     "data": {
      "text/plain": [
       "[[0.0, 400],\n",
       " [0.17453292519943295, 370],\n",
       " [0.3490658503988659, 360],\n",
       " [0.7853981633974483, 300],\n",
       " [1.0471975511965976, 200],\n",
       " [1.3962634015954636, 80]]"
      ]
     },
     "execution_count": 44,
     "metadata": {},
     "output_type": "execute_result"
    }
   ],
   "source": [
    "daten"
   ]
  },
  {
   "cell_type": "code",
   "execution_count": 45,
   "metadata": {
    "collapsed": true
   },
   "outputs": [],
   "source": [
    "def fModell(parameter,x):\n",
    "    [a,b]=parameter\n",
    "    return a*cos(x)+b"
   ]
  },
  {
   "cell_type": "code",
   "execution_count": 46,
   "metadata": {
    "collapsed": true
   },
   "outputs": [],
   "source": [
    "def QS(parameter):\n",
    "    return sum([(fModell(parameter,x)-y)**2\n",
    "                        for [x,y] in daten])"
   ]
  },
  {
   "cell_type": "code",
   "execution_count": 47,
   "metadata": {
    "collapsed": false
   },
   "outputs": [
    {
     "data": {
      "text/plain": [
       "[370.8930149653193, 18.86847771263521]"
      ]
     },
     "execution_count": 47,
     "metadata": {},
     "output_type": "execute_result"
    }
   ],
   "source": [
    "miniparN(QS,[1,1])"
   ]
  },
  {
   "cell_type": "code",
   "execution_count": 48,
   "metadata": {
    "collapsed": true
   },
   "outputs": [],
   "source": [
    "daten=[[3,1],[2,2],[1,3],[0,3],[-1,-2],[0,-2]]"
   ]
  },
  {
   "cell_type": "code",
   "execution_count": 49,
   "metadata": {
    "collapsed": true
   },
   "outputs": [],
   "source": [
    "def f(arg):\n",
    "    [xm,ym,r]=arg\n",
    "    return sum([((x-xm)**2+(y-ym)**2-r**2)**2\n",
    "                       for [x,y] in daten])"
   ]
  },
  {
   "cell_type": "code",
   "execution_count": 50,
   "metadata": {
    "collapsed": false
   },
   "outputs": [
    {
     "data": {
      "text/plain": [
       "[0.2856105901701386, 0.4135170076355178, 2.598849962891953]"
      ]
     },
     "execution_count": 50,
     "metadata": {},
     "output_type": "execute_result"
    }
   ],
   "source": [
    "miniparN(f,[0,0,0])"
   ]
  },
  {
   "cell_type": "code",
   "execution_count": 54,
   "metadata": {
    "collapsed": false
   },
   "outputs": [],
   "source": [
    "def Zeit(xi,yi): # xi,yi sind Listen der Art xi=[x1,x2,...]\n",
    "# Ergebnis ist Gesamtzeit, wenn\n",
    "# Anfangsgeschwindigkeit =0\n",
    "    t=0.0\n",
    "    g=9.81  # Erdbeschleunigung\n",
    "    for i in range(len(xi)-1):\n",
    "        [xa,xb]=xi[i:i+2]\n",
    "        [ya,yb]=yi[i:i+2]\n",
    "        y=(ya+yb)/2 # Mittlere Hoehe\n",
    "        v=sqrt(2*9.81*(yi[0]-y)) # aus 1/2*m*v^2=m*g*h\n",
    "        strecke=sqrt((xa-xb)**2+(ya-yb)**2)\n",
    "        t+=strecke/v\n",
    "    return t"
   ]
  },
  {
   "cell_type": "code",
   "execution_count": 57,
   "metadata": {
    "collapsed": true
   },
   "outputs": [],
   "source": [
    "def Brachsito(P,Q,n): # P,Q sind Startkoordinaten\n",
    "      # Anfangsweg: Lineare Rutschbahn:\n",
    "    xi=[P[0]]\n",
    "    yi=[P[1]]\n",
    "    for i in range(n):\n",
    "        xi.append(P[0]+(Q[0]-P[0])/ n*(i+0.5))\n",
    "        yi.append(P[1]+(Q[1]-P[1])/n*(i+0.5))\n",
    "    xi.append(Q[0])\n",
    "    yi.append(Q[1])\n",
    "    def f(Yinnen): \n",
    "        return Zeit(xi,[yi[0]]+Yinnen+[yi[-1]]) \n",
    "    yi=[yi[0]]+miniparNg(f,yi[1:-1])+[yi[-1]]\n",
    "    return zip(xi,yi)\n",
    "    \n",
    "    \n",
    "    "
   ]
  },
  {
   "cell_type": "code",
   "execution_count": 59,
   "metadata": {
    "collapsed": true
   },
   "outputs": [],
   "source": [
    "def grad(f,x0):\n",
    "    g=[0]*len(x0) # Das wird der Gradient\n",
    "    h=0.000001\n",
    "    f0=f(x0)\n",
    "    for i in range(len(x0)):\n",
    "        x0[i]+=h # i-te Variable um h aendern\n",
    "        g[i]=(f(x0)-f0)/h\n",
    "        x0[i]+=-h  # i-te Variable zuruecksetzen\n",
    "    return g"
   ]
  },
  {
   "cell_type": "code",
   "execution_count": 60,
   "metadata": {
    "collapsed": false
   },
   "outputs": [
    {
     "name": "stdout",
     "output_type": "stream",
     "text": [
      "[(-8, 8), (-7.5, 1.914227060269741), (-6.5, 0.9710763924447231), (-5.5, 0.13769880656404407), (-4.5, -0.5977471135384941), (-3.5, -1.2333909087268504), (-2.5, -1.7829818682620227), (-1.5, -2.220196897919055), (-0.5, -2.5991206216399623), (0.5, -2.8513212814944664), (1.5, -3.059236647041015), (8, -3)]\n"
     ]
    }
   ],
   "source": [
    "print(Brachsito([-8,8],[8,-3],10))"
   ]
  }
 ],
 "metadata": {
  "kernelspec": {
   "display_name": "Python 2",
   "language": "python",
   "name": "python2"
  },
  "language_info": {
   "codemirror_mode": {
    "name": "ipython",
    "version": 2
   },
   "file_extension": ".py",
   "mimetype": "text/x-python",
   "name": "python",
   "nbconvert_exporter": "python",
   "pygments_lexer": "ipython2",
   "version": "2.7.6"
  }
 },
 "nbformat": 4,
 "nbformat_minor": 0
}
