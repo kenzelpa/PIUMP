{
 "cells": [
  {
   "cell_type": "markdown",
   "metadata": {},
   "source": [
    "## Fermat-Punkt\n",
    "    \n",
    "GDM Beitrag zum Fermat-Problem, Linnemann, Guggisberg, Trachsler, GDM 2015 Basel\n",
    "\n",
    "__[HTML-5 Präsentation](http://mgje.github.io/presentations/GDM2015/#/)__"
   ]
  },
  {
   "cell_type": "markdown",
   "metadata": {},
   "source": [
    "![fermat](../python_in_der_wissenschaft/media/fermat.png)\n",
    "\n",
    "[Interaktive App (GeoGebra)](http://tube.geogebra.org/m/52934)"
   ]
  },
  {
   "cell_type": "code",
   "execution_count": 4,
   "metadata": {
    "collapsed": false
   },
   "outputs": [],
   "source": [
    "from math import *\n",
    "\n",
    "def distanz(a,b):\n",
    "    return sqrt((a[0]-b[0])**2+(a[1]-b[1])**2)\n",
    "    \n",
    "def schwerpunkt(punkte):\n",
    "    x0=y0=0.0\n",
    "    n = len(punkte)\n",
    "    for P in punkte:\n",
    "        x0=x0+P[0]\n",
    "        y0=y0+P[1]\n",
    "    return (x0/n,y0/n)\n",
    "\n",
    "def WeiszmanIteration(P, punkte):\n",
    "    \"\"\"\n",
    "    Return a new approximation to the geometric median \n",
    "    of `points` by applying one iteration of Weiszfeld's \n",
    "    algorithm to the old appromixation P.\n",
    "    \"\"\"\n",
    "    W = x = y = 0.0\n",
    "    for Q in punkte:\n",
    "        d = distanz(P, Q)\n",
    "        if d != 0:\n",
    "            w = 1.0 / d\n",
    "            W += w\n",
    "            x += Q[0] * w\n",
    "            y += Q[1] * w\n",
    "    return x / W, y / W\n",
    "\n",
    "\n",
    "def fermatpunkt(punkte, epsilon):\n",
    "    \"\"\"\n",
    "    Return an approximation to the geometric median for \n",
    "    `points`. Start with the centroid and apply Weiszfeld's \n",
    "    algorithm until the distance between steps is less \n",
    "    than `epsilon`.\n",
    "    \"\"\"\n",
    "    P = schwerpunkt(punkte)\n",
    "    while True:\n",
    "        Q = WeiszmanIteration(P, punkte)\n",
    "        if distanz(P, Q) < epsilon:\n",
    "            return Q\n",
    "        P = Q\n",
    "        \n"
   ]
  },
  {
   "cell_type": "code",
   "execution_count": 31,
   "metadata": {
    "collapsed": true
   },
   "outputs": [],
   "source": [
    "# Definition der Städte (Punkte)\n",
    "\n",
    "Punkte = []\n",
    "A = [1,10]\n",
    "Punkte.append(A)    \n",
    "B = [5,1]\n",
    "Punkte.append(B) \n",
    "C = [11,6]\n",
    "Punkte.append(C) \n",
    "#D = [6,6]\n",
    "#Punkte.append(D) \n",
    "#E = [10,7]\n",
    "#Punkte.append(E) \n",
    "#F = [4,7]\n",
    "#Punkte.append(F) "
   ]
  },
  {
   "cell_type": "code",
   "execution_count": 24,
   "metadata": {
    "collapsed": true
   },
   "outputs": [],
   "source": [
    "def sumdist(Q,punkte):\n",
    "    ds = 0\n",
    "    for P in punkte:\n",
    "        ds += distanz(P,Q)\n",
    "    return ds"
   ]
  },
  {
   "cell_type": "code",
   "execution_count": 56,
   "metadata": {
    "collapsed": false
   },
   "outputs": [],
   "source": [
    "# Berechnung einer Abstands-Matrix\n",
    "import numpy as np\n",
    "xdim = np.linspace(0,12,36)\n",
    "ydim = np.linspace(0,12,36)\n",
    "\n",
    "M = [[sumdist([x_,y_],Punkte) for x_ in xdim] for y_ in ydim]\n",
    "\n",
    "#print(M)\n",
    "#print(xdim)"
   ]
  },
  {
   "cell_type": "code",
   "execution_count": 64,
   "metadata": {
    "collapsed": false
   },
   "outputs": [
    {
     "data": {
      "text/plain": [
       "<matplotlib.colorbar.Colorbar at 0x1146de080>"
      ]
     },
     "execution_count": 64,
     "metadata": {},
     "output_type": "execute_result"
    },
    {
     "data": {
      "image/png": "[encoded data removed]",
      "text/plain": [
       "<matplotlib.figure.Figure at 0x11417ebe0>"
      ]
     },
     "metadata": {},
     "output_type": "display_data"
    }
   ],
   "source": [
    "%matplotlib inline\n",
    "import numpy as np\n",
    "from matplotlib.pyplot import *\n",
    "x_=[]\n",
    "y_=[]\n",
    "for p in Punkte:\n",
    "    x_.append(p[0]*3)\n",
    "    y_.append(p[1]*3)\n",
    "    \n",
    "figure(figsize=(10, 10))\n",
    "imshow(M,interpolation=\"nearest\")\n",
    "plot(x_,y_,'ro')\n",
    "xticks(np.arange(0,36,6),np.arange(0,12,2),size=16)\n",
    "yticks(np.arange(0,36,6),np.arange(0,12,2),size=16)\n",
    "colorbar()\n"
   ]
  },
  {
   "cell_type": "code",
   "execution_count": 60,
   "metadata": {
    "collapsed": false
   },
   "outputs": [
    {
     "data": {
      "text/plain": [
       "array([ 0, 10, 20, 30])"
      ]
     },
     "execution_count": 60,
     "metadata": {},
     "output_type": "execute_result"
    }
   ],
   "source": [
    "np.arange(0,36,10)\n",
    "\n"
   ]
  },
  {
   "cell_type": "code",
   "execution_count": 27,
   "metadata": {
    "collapsed": false
   },
   "outputs": [
    {
     "name": "stdout",
     "output_type": "stream",
     "text": [
      "[[3, 10], [4, 9], [6, 10]]\n",
      "(4.333333333333333, 9.666666666666666)\n",
      "(4.031616293046831, 9.238368105044017)\n"
     ]
    }
   ],
   "source": [
    "# Berechnung des Schwerpunktes und des Fermat-Punktes      \n",
    "\n",
    "print(Punkte)\n",
    "print(schwerpunkt(Punkte))  \n",
    "print(fermatpunkt(Punkte, 0.01))"
   ]
  }
 ],
 "metadata": {
  "anaconda-cloud": {},
  "kernelspec": {
   "display_name": "Python [default]",
   "language": "python",
   "name": "python3"
  },
  "language_info": {
   "codemirror_mode": {
    "name": "ipython",
    "version": 3
   },
   "file_extension": ".py",
   "mimetype": "text/x-python",
   "name": "python",
   "nbconvert_exporter": "python",
   "pygments_lexer": "ipython3",
   "version": "3.5.2"
  }
 },
 "nbformat": 4,
 "nbformat_minor": 1
}
