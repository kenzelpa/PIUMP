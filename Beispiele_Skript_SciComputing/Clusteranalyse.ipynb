{
 "cells": [
  {
   "cell_type": "markdown",
   "metadata": {},
   "source": [
    "### Clusteranalyse"
   ]
  },
  {
   "cell_type": "code",
   "execution_count": 17,
   "metadata": {
    "collapsed": true
   },
   "outputs": [],
   "source": [
    "from math import *"
   ]
  },
  {
   "cell_type": "code",
   "execution_count": 7,
   "metadata": {
    "collapsed": true
   },
   "outputs": [],
   "source": [
    "BeispielDaten=[[9,2,3],[9,9,9],[7,0,5],[8,4,4],\n",
    "                 [9,3,2],[7,9,8],[5,1,1],[7,2,3]]"
   ]
  },
  {
   "cell_type": "code",
   "execution_count": 2,
   "metadata": {
    "collapsed": true
   },
   "outputs": [],
   "source": [
    "def abstand(p,q):\n",
    "    return sqrt(sum([(p[i]-q[i])**2 for i in range(len(p))]))"
   ]
  },
  {
   "cell_type": "code",
   "execution_count": 12,
   "metadata": {
    "collapsed": true
   },
   "outputs": [],
   "source": [
    "def Mittelpunktvon(daten):\n",
    "    dim=len(daten[0]) # Dimension der einzelnen Vektoren\n",
    "    ergebnis=[0]*dim  # Null-Vektor der Dimension dim\n",
    "    for i in range(dim): # für jede Dimension werden\n",
    "        for punkt in daten: # die Eintraege aller Daten\n",
    "            ergebnis[i]+=punkt[i]  # addiert\n",
    "    return [x/len(daten) for x in ergebnis]"
   ]
  },
  {
   "cell_type": "code",
   "execution_count": 4,
   "metadata": {
    "collapsed": false
   },
   "outputs": [
    {
     "data": {
      "text/plain": [
       "[4, 140]"
      ]
     },
     "execution_count": 4,
     "metadata": {},
     "output_type": "execute_result"
    }
   ],
   "source": [
    "Mittelpunktvon([[1,100],[3,200],[8,120]])"
   ]
  },
  {
   "cell_type": "markdown",
   "metadata": {},
   "source": [
    "![fig](fig/f1.png)"
   ]
  },
  {
   "cell_type": "code",
   "execution_count": 15,
   "metadata": {
    "collapsed": true
   },
   "outputs": [],
   "source": [
    "def kCluster(daten,k):\n",
    "    n=len(daten)\n",
    "    clusterVon=[i%k for i in range(n)]\n",
    "         # i-tes Datum gehoert zu diesem Cluster\n",
    "    def punkteVonCluster(j): # j ist Cluster-Nummer\n",
    "        return [daten[i] for i in range(n) if clusterVon[i]==j]\n",
    "    esAendertsichWas=True\n",
    "    while esAendertsichWas:\n",
    "        esAendertsichWas=False\n",
    "        zentren=[Mittelpunktvon(punkteVonCluster(j)) for j in range(k)]\n",
    "        for i in range(n):\n",
    "            punkt=daten[i]\n",
    "            optimal=0 # Nummer des besten Zentrums\n",
    "            for c in range(1,k):\n",
    "                if (abstand(zentren[c],punkt)<abstand(zentren[optimal],punkt)):\n",
    "                    optimal=c\n",
    "            if not(clusterVon[i]==optimal):\n",
    "                esAendertsichWas=True\n",
    "            clusterVon[i]=optimal\n",
    "    return [punkteVonCluster(j) for j in range(k)]"
   ]
  },
  {
   "cell_type": "code",
   "execution_count": 18,
   "metadata": {
    "collapsed": false
   },
   "outputs": [
    {
     "data": {
      "text/plain": [
       "[[[7, 0, 5], [5, 1, 1], [7, 2, 3]],\n",
       " [[9, 2, 3], [8, 4, 4], [9, 3, 2]],\n",
       " [[9, 9, 9], [7, 9, 8]]]"
      ]
     },
     "execution_count": 18,
     "metadata": {},
     "output_type": "execute_result"
    }
   ],
   "source": [
    "kCluster(BeispielDaten,3)"
   ]
  },
  {
   "cell_type": "code",
   "execution_count": 23,
   "metadata": {
    "collapsed": true
   },
   "outputs": [],
   "source": [
    "def clusterFehler(clusters):\n",
    "    fehlersumme=0.0\n",
    "    for c in clusters:\n",
    "        m=Mittelpunktvon(c)\n",
    "        for p in c: fehlersumme+=abstand(p,m)\n",
    "    return fehlersumme\n"
   ]
  },
  {
   "cell_type": "code",
   "execution_count": 24,
   "metadata": {
    "collapsed": false
   },
   "outputs": [
    {
     "name": "stdout",
     "output_type": "stream",
     "text": [
      "('Analyse mit ', 1, ' Clustern')\n",
      "('Fehlersumme=', 30.66508757728813)\n",
      "()\n",
      "('Analyse mit ', 2, ' Clustern')\n",
      "('Fehlersumme=', 15.141620172685641)\n",
      "()\n",
      "('Analyse mit ', 3, ' Clustern')\n",
      "('Fehlersumme=', 12.756625532148444)\n",
      "()\n",
      "('Analyse mit ', 4, ' Clustern')\n",
      "('Fehlersumme=', 11.83182209022494)\n",
      "()\n"
     ]
    }
   ],
   "source": [
    " for k in range(1,5):\n",
    "    print(\"Analyse mit \",k,\" Clustern\")\n",
    "    clusters=kCluster(BeispielDaten,k)\n",
    "    print(\"Fehlersumme=\",\n",
    "            clusterFehler(clusters))\n",
    "    print()"
   ]
  },
  {
   "cell_type": "markdown",
   "metadata": {},
   "source": [
    "## Hierarchische Clusteranalyse"
   ]
  },
  {
   "cell_type": "code",
   "execution_count": 27,
   "metadata": {
    "collapsed": false
   },
   "outputs": [],
   "source": [
    "def istVektor(L):\n",
    "    return type(L)==list and (type(L[0])==int or type(L[0])==float)\n",
    "def flach(L):\n",
    "    if istVektor(L): return [L]\n",
    "    Lflach=[flach(u) for u in L]\n",
    "    ergebnis=[]\n",
    "    for liste in Lflach: \n",
    "        ergebnis=ergebnis+liste\n",
    "    return ergebnis\n",
    "\n",
    "def Schwerpunkt(daten): \n",
    "    return Mittelpunktvon(flach(daten))"
   ]
  },
  {
   "cell_type": "code",
   "execution_count": 28,
   "metadata": {
    "collapsed": false
   },
   "outputs": [
    {
     "data": {
      "text/plain": [
       "True"
      ]
     },
     "execution_count": 28,
     "metadata": {},
     "output_type": "execute_result"
    }
   ],
   "source": [
    "istVektor([4,3,6])"
   ]
  },
  {
   "cell_type": "code",
   "execution_count": 29,
   "metadata": {
    "collapsed": false
   },
   "outputs": [
    {
     "data": {
      "text/plain": [
       "False"
      ]
     },
     "execution_count": 29,
     "metadata": {},
     "output_type": "execute_result"
    }
   ],
   "source": [
    "istVektor([[4,3,6]])"
   ]
  },
  {
   "cell_type": "code",
   "execution_count": 30,
   "metadata": {
    "collapsed": false
   },
   "outputs": [
    {
     "data": {
      "text/plain": [
       "False"
      ]
     },
     "execution_count": 30,
     "metadata": {},
     "output_type": "execute_result"
    }
   ],
   "source": [
    "istVektor([[],3,6])"
   ]
  },
  {
   "cell_type": "code",
   "execution_count": 31,
   "metadata": {
    "collapsed": false
   },
   "outputs": [
    {
     "data": {
      "text/plain": [
       "[[1, 2], [7, 8], [9, 1], [5, 2]]"
      ]
     },
     "execution_count": 31,
     "metadata": {},
     "output_type": "execute_result"
    }
   ],
   "source": [
    "flach([[[1,2],[7,8]],[[9,1]],[5,2]])"
   ]
  },
  {
   "cell_type": "code",
   "execution_count": 32,
   "metadata": {
    "collapsed": true
   },
   "outputs": [],
   "source": [
    "def hcluster(daten):\n",
    "    C=[p for p in daten] # Eine Kopie der Daten\n",
    "    while len(C)>1:\n",
    "        optimalespaar=[0,1]# Suche vorbereiten\n",
    "        optimalerAbstand = abstand(Schwerpunkt(C[0]),Schwerpunkt(C[1]))\n",
    "        for i in range(len(C)-1):\n",
    "            for j in range(i+1,len(C)):\n",
    "                if (abstand( Schwerpunkt(C[i]),Schwerpunkt(C[j]))<optimalerAbstand):\n",
    "                    optimalespaar=[i,j]\n",
    "                    optimalerAbstand=abstand(Schwerpunkt(C[i]),Schwerpunkt(C[j]))\n",
    "        [r,s]=optimalespaar\n",
    "        C=C[:r]+C[r+1:s]+C[s+1:]+[[C[r],C[s]]]\n",
    "    return C[0]"
   ]
  },
  {
   "cell_type": "code",
   "execution_count": 33,
   "metadata": {
    "collapsed": true
   },
   "outputs": [],
   "source": [
    "def printCluster(C,tiefe=0):\n",
    "    if istVektor(C):\n",
    "        print( (\" \"*tiefe)+str(C))\n",
    "        return\n",
    "    print((\" \"*(tiefe-1))+\"[\")\n",
    "    for c in C:\n",
    "        printCluster(c,tiefe+5)\n",
    "    print((\" \"*(tiefe-1))+\"]\")"
   ]
  },
  {
   "cell_type": "code",
   "execution_count": 34,
   "metadata": {
    "collapsed": false
   },
   "outputs": [
    {
     "name": "stdout",
     "output_type": "stream",
     "text": [
      "[\n",
      "    [\n",
      "          [9, 9, 9]\n",
      "          [7, 9, 8]\n",
      "    ]\n",
      "    [\n",
      "          [5, 1, 1]\n",
      "         [\n",
      "               [7, 0, 5]\n",
      "              [\n",
      "                    [8, 4, 4]\n",
      "                   [\n",
      "                         [7, 2, 3]\n",
      "                        [\n",
      "                              [9, 2, 3]\n",
      "                              [9, 3, 2]\n",
      "                        ]\n",
      "                   ]\n",
      "              ]\n",
      "         ]\n",
      "    ]\n",
      "]\n"
     ]
    }
   ],
   "source": [
    "printCluster(hcluster(BeispielDaten))"
   ]
  }
 ],
 "metadata": {
  "anaconda-cloud": {},
  "kernelspec": {
   "display_name": "Python [default]",
   "language": "python",
   "name": "python3"
  },
  "language_info": {
   "codemirror_mode": {
    "name": "ipython",
    "version": 3
   },
   "file_extension": ".py",
   "mimetype": "text/x-python",
   "name": "python",
   "nbconvert_exporter": "python",
   "pygments_lexer": "ipython3",
   "version": "3.5.2"
  }
 },
 "nbformat": 4,
 "nbformat_minor": 0
}
