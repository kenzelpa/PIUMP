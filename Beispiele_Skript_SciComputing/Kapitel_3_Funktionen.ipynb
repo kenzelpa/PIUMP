{
 "cells": [
  {
   "cell_type": "markdown",
   "metadata": {},
   "source": [
    "### Funktionen\n",
    "\n",
    "Umrechnung von Celsius in Fahrenheit"
   ]
  },
  {
   "cell_type": "code",
   "execution_count": 1,
   "metadata": {
    "collapsed": true
   },
   "outputs": [],
   "source": [
    "def F(C):\n",
    "     return (9.0/5)*C + 32"
   ]
  },
  {
   "cell_type": "code",
   "execution_count": 2,
   "metadata": {
    "collapsed": false
   },
   "outputs": [
    {
     "name": "stdout",
     "output_type": "stream",
     "text": [
      "50.0\n"
     ]
    }
   ],
   "source": [
    "print F(10)"
   ]
  },
  {
   "cell_type": "code",
   "execution_count": 4,
   "metadata": {
    "collapsed": false
   },
   "outputs": [
    {
     "name": "stdout",
     "output_type": "stream",
     "text": [
      "[-20, -15, -10, -5, 0, 5, 10, 15, 20, 25, 30, 35, 40]\n",
      "[-4.0, 5.0, 14.0, 23.0, 32.0, 41.0, 50.0, 59.0, 68.0, 77.0, 86.0, 95.0, 104.0]\n"
     ]
    }
   ],
   "source": [
    "Cdegrees = range(-20,41,5)\n",
    "Fdegrees = [F(C) for C in Cdegrees]\n",
    "print Cdegrees\n",
    "print Fdegrees"
   ]
  },
  {
   "cell_type": "markdown",
   "metadata": {},
   "source": [
    "### global und lokal definierte Variablen"
   ]
  },
  {
   "cell_type": "code",
   "execution_count": 5,
   "metadata": {
    "collapsed": false
   },
   "outputs": [
    {
     "name": "stdout",
     "output_type": "stream",
     "text": [
      "<built-in function sum>\n",
      "500\n",
      "3\n",
      "4\n"
     ]
    }
   ],
   "source": [
    "print sum # sum ist eine interne Python Funktion\n",
    "sum = 500 # Neudefinition des Namens sum\n",
    "print sum # sum ist nun eine globale Variable\n",
    "\n",
    "def myfunc(n):\n",
    "    sum = n + 1 \n",
    "    print sum  # sum ist an dieser Stelle eine lokale Variable\n",
    "    return sum\n",
    "\n",
    "sum = myfunc(2) + 1 # neuer Wert für sum (globale Variable)\n",
    "print sum"
   ]
  },
  {
   "cell_type": "code",
   "execution_count": 6,
   "metadata": {
    "collapsed": false
   },
   "outputs": [
    {
     "name": "stdout",
     "output_type": "stream",
     "text": [
      "20\n",
      "20\n",
      "21\n"
     ]
    }
   ],
   "source": [
    "a= 20;b=-2.5    # globale Variable\n",
    "\n",
    "def f1(x): \n",
    "    a=21            # Neue lokale Variable\n",
    "    return a*x + b\n",
    "\n",
    "print a             # 20 wird ausgegeben\n",
    "\n",
    "def f2(x):\n",
    "    global a\n",
    "    a=21           # die globale Variable wird verändert\n",
    "    return a*x + b\n",
    "    \n",
    "f1(3); print a   # 20 wird ausgegeben\n",
    "f2(3); print a   # 21 wird ausgegeben"
   ]
  },
  {
   "cell_type": "markdown",
   "metadata": {},
   "source": [
    "### Vertikaler Wurf"
   ]
  },
  {
   "cell_type": "code",
   "execution_count": 7,
   "metadata": {
    "collapsed": true
   },
   "outputs": [],
   "source": [
    "def yfunc(t, v0):\n",
    "    g = 9.81\n",
    "    return v0*t - 0.5*g*t**2"
   ]
  },
  {
   "cell_type": "code",
   "execution_count": 9,
   "metadata": {
    "collapsed": false
   },
   "outputs": [
    {
     "name": "stdout",
     "output_type": "stream",
     "text": [
      "0.55095\n"
     ]
    }
   ],
   "source": [
    "y = yfunc(0.1, 6)\n",
    "print y"
   ]
  },
  {
   "cell_type": "code",
   "execution_count": 10,
   "metadata": {
    "collapsed": false
   },
   "outputs": [
    {
     "name": "stdout",
     "output_type": "stream",
     "text": [
      "0.55095\n"
     ]
    }
   ],
   "source": [
    "y = yfunc(0.1, v0=6)\n",
    "print y"
   ]
  },
  {
   "cell_type": "code",
   "execution_count": 11,
   "metadata": {
    "collapsed": false
   },
   "outputs": [
    {
     "name": "stdout",
     "output_type": "stream",
     "text": [
      "0.55095\n"
     ]
    }
   ],
   "source": [
    "y = yfunc(t=0.1, v0=6)\n",
    "print y"
   ]
  },
  {
   "cell_type": "code",
   "execution_count": 12,
   "metadata": {
    "collapsed": false
   },
   "outputs": [
    {
     "name": "stdout",
     "output_type": "stream",
     "text": [
      "0.55095\n"
     ]
    }
   ],
   "source": [
    "y = yfunc(v0=6, t=0.1)\n",
    "print y"
   ]
  },
  {
   "cell_type": "markdown",
   "metadata": {},
   "source": [
    "### Funktion von genau einer Variablen (Mathematik)"
   ]
  },
  {
   "cell_type": "code",
   "execution_count": 13,
   "metadata": {
    "collapsed": true
   },
   "outputs": [],
   "source": [
    "def yfunc(t):\n",
    "    g = 9.81\n",
    "    return v0*t - 0.5*g*t**2"
   ]
  },
  {
   "cell_type": "code",
   "execution_count": 14,
   "metadata": {
    "collapsed": false
   },
   "outputs": [
    {
     "ename": "NameError",
     "evalue": "global name 'v0' is not defined",
     "output_type": "error",
     "traceback": [
      "\u001b[0;31m---------------------------------------------------------------------------\u001b[0m",
      "\u001b[0;31mNameError\u001b[0m                                 Traceback (most recent call last)",
      "\u001b[0;32m<ipython-input-14-dee1eba5d738>\u001b[0m in \u001b[0;36m<module>\u001b[0;34m()\u001b[0m\n\u001b[0;32m----> 1\u001b[0;31m \u001b[0;32mprint\u001b[0m \u001b[0myfunc\u001b[0m \u001b[0;34m(\u001b[0m\u001b[0;36m0.6\u001b[0m\u001b[0;34m)\u001b[0m\u001b[0;34m\u001b[0m\u001b[0m\n\u001b[0m",
      "\u001b[0;32m<ipython-input-13-2915f6fa4c24>\u001b[0m in \u001b[0;36myfunc\u001b[0;34m(t)\u001b[0m\n\u001b[1;32m      1\u001b[0m \u001b[0;32mdef\u001b[0m \u001b[0myfunc\u001b[0m\u001b[0;34m(\u001b[0m\u001b[0mt\u001b[0m\u001b[0;34m)\u001b[0m\u001b[0;34m:\u001b[0m\u001b[0;34m\u001b[0m\u001b[0m\n\u001b[1;32m      2\u001b[0m     \u001b[0mg\u001b[0m \u001b[0;34m=\u001b[0m \u001b[0;36m9.81\u001b[0m\u001b[0;34m\u001b[0m\u001b[0m\n\u001b[0;32m----> 3\u001b[0;31m     \u001b[0;32mreturn\u001b[0m \u001b[0mv0\u001b[0m\u001b[0;34m*\u001b[0m\u001b[0mt\u001b[0m \u001b[0;34m-\u001b[0m \u001b[0;36m0.5\u001b[0m\u001b[0;34m*\u001b[0m\u001b[0mg\u001b[0m\u001b[0;34m*\u001b[0m\u001b[0mt\u001b[0m\u001b[0;34m**\u001b[0m\u001b[0;36m2\u001b[0m\u001b[0;34m\u001b[0m\u001b[0m\n\u001b[0m",
      "\u001b[0;31mNameError\u001b[0m: global name 'v0' is not defined"
     ]
    }
   ],
   "source": [
    "print yfunc (0.6)"
   ]
  },
  {
   "cell_type": "code",
   "execution_count": 16,
   "metadata": {
    "collapsed": false
   },
   "outputs": [
    {
     "name": "stdout",
     "output_type": "stream",
     "text": [
      "1.2342\n"
     ]
    }
   ],
   "source": [
    "v0 = 5\n",
    "print yfunc (0.6)"
   ]
  },
  {
   "cell_type": "markdown",
   "metadata": {},
   "source": [
    "### Funktion für die Erzeugung einer Liste"
   ]
  },
  {
   "cell_type": "code",
   "execution_count": 19,
   "metadata": {
    "collapsed": false
   },
   "outputs": [
    {
     "name": "stdout",
     "output_type": "stream",
     "text": [
      "[0, 0.325, 0.65, 0.9750000000000001, 1.3, 1.625, 1.95, 2.275, 2.6, 2.9250000000000003, 3.2500000000000004, 3.5750000000000006, 3.900000000000001, 4.2250000000000005, 4.550000000000001, 4.875000000000001, 5.200000000000001, 5.525000000000001, 5.850000000000001, 6.175000000000002, 6.500000000000002, 6.825000000000002, 7.150000000000002, 7.475000000000002, 7.8000000000000025, 8.125000000000002, 8.450000000000001, 8.775, 9.1, 9.424999999999999, 9.749999999999998]\n"
     ]
    }
   ],
   "source": [
    "def makelist(start, stop, inc):\n",
    "    value = start\n",
    "    result = []\n",
    "    while value <= stop:\n",
    "        result.append(value)\n",
    "        value = value + inc\n",
    "    return result\n",
    "\n",
    "mylist = makelist(0, 10, 0.325)\n",
    "print mylist # Ausgabe:  0, 0.2, 0.4, 0.6, ... 99.8, 100"
   ]
  },
  {
   "cell_type": "markdown",
   "metadata": {},
   "source": [
    "### Mehr als ein Funktionswert \n",
    "\n",
    "z.B. kann die Rückgabe ein Funktionswert und die Änderungsrate sein\n",
    "also =>  f(x) und f'(x)"
   ]
  },
  {
   "cell_type": "code",
   "execution_count": 21,
   "metadata": {
    "collapsed": false
   },
   "outputs": [],
   "source": [
    "def yfunc(t, v0):\n",
    "    g = 9.81\n",
    "    y = v0*t - 0.5*g*t**2\n",
    "    dydt = v0 - g*t\n",
    "    return y, dydt"
   ]
  },
  {
   "cell_type": "code",
   "execution_count": 25,
   "metadata": {
    "collapsed": false
   },
   "outputs": [
    {
     "name": "stdout",
     "output_type": "stream",
     "text": [
      "0.25095 2.019\n"
     ]
    }
   ],
   "source": [
    "position , velocity = yfunc (0.1 , 3)\n",
    "print position, velocity"
   ]
  },
  {
   "cell_type": "markdown",
   "metadata": {},
   "source": [
    "### Position und Geschwindigkeit berechnen"
   ]
  },
  {
   "cell_type": "code",
   "execution_count": 27,
   "metadata": {
    "collapsed": false
   },
   "outputs": [
    {
     "name": "stdout",
     "output_type": "stream",
     "text": [
      "t=0          position=0          velocity=5         \n",
      "t=0.05       position=0.237737   velocity=4.5095    \n",
      "t=0.1        position=0.45095    velocity=4.019     \n",
      "t=0.15       position=0.639638   velocity=3.5285    \n",
      "t=0.2        position=0.8038     velocity=3.038     \n",
      "t=0.25       position=0.943437   velocity=2.5475    \n",
      "t=0.3        position=1.05855    velocity=2.057     \n",
      "t=0.35       position=1.14914    velocity=1.5665    \n",
      "t=0.4        position=1.2152     velocity=1.076     \n",
      "t=0.45       position=1.25674    velocity=0.5855    \n"
     ]
    }
   ],
   "source": [
    "t_values = [0.05*i for i in range(10)]\n",
    "for t in t_values:\n",
    "    pos, vel = yfunc(t, v0=5)\n",
    "    print 't=%-10g position=%-10g velocity=%-10g' % (t, pos, vel)"
   ]
  },
  {
   "cell_type": "markdown",
   "metadata": {},
   "source": [
    "### Rechnen mit log(x + 1)\n",
    "\n",
    "Sei \n",
    "\n",
    "$$\n",
    "L(x;n)=\\sum\\limits_{i=1}^n  \\frac{1}{i} \\left(   \\frac{x}{1+x}     \\right)^i\n",
    "$$\n",
    "\n",
    "und \n",
    "\n",
    "$$\n",
    "ln(1+x)=   \\lim_{n\\to\\infty}   L(x;n) \n",
    "$$\n"
   ]
  },
  {
   "cell_type": "code",
   "execution_count": 33,
   "metadata": {
    "collapsed": false
   },
   "outputs": [],
   "source": [
    "from math import log\n",
    "\n",
    "def L(x, n): \n",
    "    s=0.0\n",
    "    for i in range(1, n+1):\n",
    "        s += (1.0/i)*(x/(1.0+x))**i\n",
    "    value_of_sum = s    \n",
    "    first_neglected_term = (1.0/(n+1))*(x/(1.0+x))**(n+1)\n",
    "    exact_error = log(1+x) - value_of_sum\n",
    "    return value_of_sum, first_neglected_term, exact_error"
   ]
  },
  {
   "cell_type": "code",
   "execution_count": 38,
   "metadata": {
    "collapsed": false
   },
   "outputs": [
    {
     "name": "stdout",
     "output_type": "stream",
     "text": [
      "1.48160454092 4.85656183191e-14 2.09166017839e-13\n"
     ]
    }
   ],
   "source": [
    "### Test\n",
    "x = 3.4\n",
    "value, approximate_error, exact_error = L(x, 100)\n",
    "print value, approximate_error, exact_error"
   ]
  },
  {
   "cell_type": "markdown",
   "metadata": {},
   "source": [
    "### Vordefinierte Parameter"
   ]
  },
  {
   "cell_type": "code",
   "execution_count": 40,
   "metadata": {
    "collapsed": true
   },
   "outputs": [],
   "source": [
    "from math import pi, exp, sin\n",
    "def f(t, A=1, a=1, omega=2*pi):\n",
    "     return A*exp(-a*t)*sin(omega*t)"
   ]
  },
  {
   "cell_type": "code",
   "execution_count": 41,
   "metadata": {
    "collapsed": false
   },
   "outputs": [
    {
     "name": "stdout",
     "output_type": "stream",
     "text": [
      "0.778659217806\n",
      "0.162656690815\n",
      "3.16713172131e-20\n",
      "0.0049009925497\n",
      "0.0813283454077\n"
     ]
    }
   ],
   "source": [
    "v1 = f(0.2)\n",
    "v2 = f(0.2, omega=1)\n",
    "v3 = f(1, A=5, omega=pi, a=pi**2)\n",
    "v4 = f(A=5, a=2, t=0.01, omega=0.1)\n",
    "v5 = f(0.2, 0.5, 1, 1)\n",
    "\n",
    "print v1\n",
    "print v2\n",
    "print v3\n",
    "print v4\n",
    "print v5"
   ]
  },
  {
   "cell_type": "code",
   "execution_count": 43,
   "metadata": {
    "collapsed": true
   },
   "outputs": [],
   "source": [
    "def L2(x, epsilon=1.0E-6):\n",
    "    x = float(x)\n",
    "    i=1\n",
    "    term = (1.0/i)*(x/(1+x))**i \n",
    "    s = term\n",
    "    while abs(term) > epsilon:    # abs(x) ist |x|\n",
    "        i += 1\n",
    "        term = (1.0/i)*(x/(1+x))**i\n",
    "        s += term\n",
    "    return s, i"
   ]
  },
  {
   "cell_type": "code",
   "execution_count": 44,
   "metadata": {
    "collapsed": false
   },
   "outputs": [
    {
     "name": "stdout",
     "output_type": "stream",
     "text": [
      "epsilon: 1e-04, exact error: 8.18e-04, n=55\n",
      "epsilon: 1e-06, exact error: 9.02e-06, n=97\n",
      "epsilon: 1e-08, exact error: 8.70e-08, n=142\n",
      "epsilon: 1e-10, exact error: 9.20e-10, n=187\n",
      "epsilon: 1e-12, exact error: 9.31e-12, n=233\n"
     ]
    }
   ],
   "source": [
    "from math import log\n",
    "x = 10\n",
    "for k in range(4, 14, 2):\n",
    "    epsilon = 10**(-k)\n",
    "    approx, n = L2(x, epsilon=epsilon)\n",
    "    exact = log(1+x)\n",
    "    exact_error = exact - approx\n",
    "    print 'epsilon: %5.0e, exact error: %8.2e, n=%d' \\\n",
    "             % (epsilon, exact_error, n)"
   ]
  },
  {
   "cell_type": "markdown",
   "metadata": {},
   "source": [
    "### Funktionale Programmierung\n",
    "\n",
    "Parameter können nun auch Funktionen sein\n",
    "\n",
    "* Beispiel 2. Ableitung\n",
    "\n",
    "$$\n",
    "f^{''}(x) \\approx \\frac{f(x-h)-2f(x)+f(x+h)}{h^2}\n",
    "$$"
   ]
  },
  {
   "cell_type": "code",
   "execution_count": 45,
   "metadata": {
    "collapsed": true
   },
   "outputs": [],
   "source": [
    "def diff2(f, x, h=1E-6):\n",
    "    r = (f(x-h) - 2*f(x) + f(x+h))/float(h*h)\n",
    "    return r"
   ]
  },
  {
   "cell_type": "code",
   "execution_count": 46,
   "metadata": {
    "collapsed": false
   },
   "outputs": [
    {
     "name": "stdout",
     "output_type": "stream",
     "text": [
      "g''(1.200000)=9.767798\n"
     ]
    }
   ],
   "source": [
    "def g(t):\n",
    "     return t**(-6)\n",
    "\n",
    "t = 1.2\n",
    "d2g = diff2(g, t)\n",
    "print \"g''(%f)=%f\" % (t, d2g)"
   ]
  },
  {
   "cell_type": "markdown",
   "metadata": {},
   "source": [
    "### Fallunterscheidung / Verzweigungen\n",
    "\n",
    "$$\n",
    "f(x) = \\left\\{\n",
    "     \\begin{array}{ll}\n",
    "       \\sin(x) &\\mbox{für } 0 \\le x\\le \\pi\\\\\n",
    "       0 & sonst\n",
    "     \\end{array}\n",
    "   \\right.\n",
    "   $$"
   ]
  },
  {
   "cell_type": "code",
   "execution_count": 48,
   "metadata": {
    "collapsed": true
   },
   "outputs": [],
   "source": [
    "def f(x):\n",
    "    if 0 <= x <= pi:\n",
    "        value = sin(x)\n",
    "    else:\n",
    "        value = 0\n",
    "    return value"
   ]
  },
  {
   "cell_type": "code",
   "execution_count": 53,
   "metadata": {
    "collapsed": true
   },
   "outputs": [],
   "source": [
    "C = -200"
   ]
  },
  {
   "cell_type": "code",
   "execution_count": 55,
   "metadata": {
    "collapsed": false
   },
   "outputs": [
    {
     "name": "stdout",
     "output_type": "stream",
     "text": [
      "-328.0 °F\n",
      "end of program\n"
     ]
    }
   ],
   "source": [
    "if C < -273.15:\n",
    "    print '%g degrees Celsius is non-physical!' % C\n",
    "    print 'The Fahrenheit temperature will not be computed.'\n",
    "else:\n",
    "    F = 9.0/5*C + 32\n",
    "    print F ,'°F'\n",
    "print 'end of program'"
   ]
  }
 ],
 "metadata": {
  "kernelspec": {
   "display_name": "Python 2",
   "language": "python",
   "name": "python2"
  },
  "language_info": {
   "codemirror_mode": {
    "name": "ipython",
    "version": 2
   },
   "file_extension": ".py",
   "mimetype": "text/x-python",
   "name": "python",
   "nbconvert_exporter": "python",
   "pygments_lexer": "ipython2",
   "version": "2.7.6"
  }
 },
 "nbformat": 4,
 "nbformat_minor": 0
}
