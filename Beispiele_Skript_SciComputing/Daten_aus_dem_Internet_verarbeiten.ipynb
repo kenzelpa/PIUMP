{
 "cells": [
  {
   "cell_type": "markdown",
   "metadata": {},
   "source": [
    "### Suchanfrage im Internet"
   ]
  },
  {
   "cell_type": "code",
   "execution_count": 7,
   "metadata": {
    "collapsed": false
   },
   "outputs": [
    {
     "name": "stdout",
     "output_type": "stream",
     "text": [
      "<b>Martin Guggisberg</b> — Mathematikdidaktik **** http://web.fhnw.ch/ph/mathematikdidaktik/professur-mathedidaktik-s1-s2/team/martin-guggisberg\n",
      "<b>FHNW</b> - Dr. <b>Martin Guggisberg</b> - Tätigkeiten und Funktion in <b>...</b> **** http://www.fhnw.ch/personen/martin-guggisberg\n",
      "<b>FHNW</b> - Dr. <b>Martin Guggisberg</b> - Publikationen - Veröffentlichungen <b>...</b> **** http://www.fhnw.ch/personen/martin-guggisberg/publikationen\n",
      "Lebenslauf **** http://www.fhnw.ch/personen/martin-guggisberg/dateien/Lebenslauf.pdf\n"
     ]
    }
   ],
   "source": [
    "import urllib2, json\n",
    "\n",
    "# Suchstring anpassen\n",
    "search = 'Martin Guggisberg FHNW'\n",
    "\n",
    "url = \"http://ajax.googleapis.com/ajax/services/search/web?v=1.0&q=\" + urllib2.quote(search.encode(\"utf-8\"))\n",
    "responseStr = urllib2.urlopen(url).read()\n",
    "response = json.loads(responseStr)\n",
    "responseData = response[\"responseData\"]\n",
    "results = responseData[\"results\"]\n",
    "\n",
    "for result in results:\n",
    "    title = result[\"title\"]\n",
    "    url = result[\"url\"]\n",
    "    print title + \" **** \" + url"
   ]
  },
  {
   "cell_type": "markdown",
   "metadata": {},
   "source": [
    "### Welche Geo-Koordinaten hat die Adresse\n",
    "\n",
    "Universitätstrasse 6 ETH Zürich ?"
   ]
  },
  {
   "cell_type": "code",
   "execution_count": 11,
   "metadata": {
    "collapsed": false
   },
   "outputs": [
    {
     "name": "stdout",
     "output_type": "stream",
     "text": [
      "{u'results': [{u'address_components': [{u'long_name': u'Z\\xfcrich',\n",
      "                                        u'short_name': u'Z\\xfcrich',\n",
      "                                        u'types': [u'locality',\n",
      "                                                   u'political']},\n",
      "                                       {u'long_name': u'Z\\xfcrich District',\n",
      "                                        u'short_name': u'Z\\xfcrich District',\n",
      "                                        u'types': [u'administrative_area_level_2',\n",
      "                                                   u'political']},\n",
      "                                       {u'long_name': u'Zurich',\n",
      "                                        u'short_name': u'ZH',\n",
      "                                        u'types': [u'administrative_area_level_1',\n",
      "                                                   u'political']},\n",
      "                                       {u'long_name': u'Switzerland',\n",
      "                                        u'short_name': u'CH',\n",
      "                                        u'types': [u'country',\n",
      "                                                   u'political']}],\n",
      "               u'formatted_address': u'Z\\xfcrich, Switzerland',\n",
      "               u'geometry': {u'bounds': {u'northeast': {u'lat': 47.43468,\n",
      "                                                        u'lng': 8.6253701},\n",
      "                                         u'southwest': {u'lat': 47.32023,\n",
      "                                                        u'lng': 8.448059899999999}},\n",
      "                             u'location': {u'lat': 47.3768866,\n",
      "                                           u'lng': 8.541694},\n",
      "                             u'location_type': u'APPROXIMATE',\n",
      "                             u'viewport': {u'northeast': {u'lat': 47.43468,\n",
      "                                                          u'lng': 8.6253701},\n",
      "                                           u'southwest': {u'lat': 47.32023,\n",
      "                                                          u'lng': 8.448059899999999}}},\n",
      "               u'partial_match': True,\n",
      "               u'place_id': u'ChIJGaK-SZcLkEcRA9wf5_GNbuY',\n",
      "               u'types': [u'locality', u'political']}],\n",
      " u'status': u'OK'}\n"
     ]
    }
   ],
   "source": [
    "import urllib2\n",
    "import pprint\n",
    "import json\n",
    "add = u\"Universitätstrasse 6 ETH Zürich\"\n",
    "add = urllib2.quote(add.encode(\"utf-8\"))\n",
    "geocode_url = \"http://maps.googleapis.com/maps/api/geocode/json?address=%s&sensor=false\" % add\n",
    "req = urllib2.urlopen(geocode_url)\n",
    "jsonResponse = json.loads(req.read())\n",
    "pprint.pprint(jsonResponse)"
   ]
  },
  {
   "cell_type": "markdown",
   "metadata": {},
   "source": [
    "### REVERSE GEOLOCATION\n",
    "Ich brauche Information zu der Geo-Koordinate\n",
    "( 47.3783606 , 8.5488485 )"
   ]
  },
  {
   "cell_type": "code",
   "execution_count": 13,
   "metadata": {
    "collapsed": false
   },
   "outputs": [
    {
     "name": "stdout",
     "output_type": "stream",
     "text": [
      "Bahnhofpl. 4, 5200 Brugg, Switzerland\n"
     ]
    }
   ],
   "source": [
    "import urllib2\n",
    "import pprint\n",
    "import json\n",
    "lat=\"47.4810306\"\n",
    "lon=\"8.2093523\"\n",
    "geocode_url = \"http://maps.googleapis.com/maps/api/geocode/json?latlng=%s,%s&sensor=false\" % (lat,lon)\n",
    "req = urllib2.urlopen(geocode_url)\n",
    "jsonResponse = json.loads(req.read())\n",
    "print jsonResponse[\"results\"][0][\"formatted_address\"]"
   ]
  },
  {
   "cell_type": "markdown",
   "metadata": {},
   "source": [
    "### Wie komme ich von A nach B"
   ]
  },
  {
   "cell_type": "code",
   "execution_count": 17,
   "metadata": {
    "collapsed": false
   },
   "outputs": [
    {
     "name": "stdout",
     "output_type": "stream",
     "text": [
      "Distanz:0,7 km\n",
      "Dauer:8 Minuten\n",
      "0,2 km > Auf Steinackerstrasse nach Nordwesten Richtung Bahnhofstrasse\n",
      "45 m > Links abbiegen auf Alte Zürcherstrasse/Neumarkt\n",
      "79 m > Leicht rechts abbiegen auf Bahnhofpl./Route 5\n",
      "68 m > Rechts abbiegen auf Bahnhofstrasse\n",
      "23 m > Nach links abbiegen, um auf Bahnhofstrasse zu bleiben\n",
      "0,2 km > Rechts abbiegen auf Seidenstrasse\n",
      "52 m > Rechts abbiegen auf Fröhlichstrasse\n"
     ]
    }
   ],
   "source": [
    "\"\"\"Wegbeschreibung für eine Route von A nach B bei Google anfordern und als Text ausgeben.\"\"\"\n",
    "import urllib2\n",
    "import json\n",
    "import re\n",
    "\n",
    "## Trick um HTML Elemente weg zu bekommen\n",
    "TAG_RE = re.compile(r\"<[^>]+>\")\n",
    "def remove_tags(text):\n",
    "    return TAG_RE.sub('', text)\n",
    "\n",
    "## Parameter für Route\n",
    "start = u\"Steinackerstrasse Brugg\"\n",
    "ziel = u\"Fröhlichstrasse Brugg\"\n",
    "sprache = \"de\" # \"en\"\n",
    "art = \"walking\" #driving walking transit bicycling\n",
    "start = urllib2.quote(start.encode(\"utf-8\"))\n",
    "ziel = urllib2.quote(ziel.encode(\"utf-8\"))\n",
    "\n",
    "geocode_url = \"https://maps.googleapis.com/maps/api/directions/json?origin=%s&destination=%s&avoid=highways&mode=%s&language=%s\" % (start,ziel,art,sprache)\n",
    "req = urllib2.urlopen(geocode_url)\n",
    "jsonResponse = json.loads(req.read())\n",
    "\n",
    "print \"Distanz:\" + jsonResponse[\"routes\"][0][\"legs\"][0][\"distance\"][\"text\"]\n",
    "print \"Dauer:\" + jsonResponse[\"routes\"][0][\"legs\"][0][\"duration\"][\"text\"]\n",
    "\n",
    "for step in jsonResponse[\"routes\"][0][\"legs\"][0][\"steps\"]:\n",
    "    print step[\"distance\"][\"text\"] + \" > \"+ remove_tags(step[\"html_instructions\"])\n"
   ]
  },
  {
   "cell_type": "markdown",
   "metadata": {},
   "source": [
    "### Die drei ersten Schlagzeilen aus der Rubrik Digital von 20 Min extrahieren"
   ]
  },
  {
   "cell_type": "code",
   "execution_count": 21,
   "metadata": {
    "collapsed": false
   },
   "outputs": [
    {
     "name": "stdout",
     "output_type": "stream",
     "text": [
      "1: Apple behebt «Error 53» bei betroffenen iPhones\n",
      "2: Ruckelnde Videos lassen den Puls rasen\n",
      "3: Werden Schweizer bei Mobil-Abos abgezockt?\n",
      "None\n"
     ]
    }
   ],
   "source": [
    "\"\"\" HEAD News ser Rubrik Digital von 20min ermitteln und ausgeben \"\"\"\n",
    "from HTMLParser import HTMLParser\n",
    "import urllib2\n",
    "\n",
    "class DigitalHeadLine(HTMLParser):\n",
    "    \n",
    "    capture_txt=False\n",
    "    headlines =[]\n",
    "    \n",
    "\n",
    "    def handle_starttag(self, tag, attrs):\n",
    "        if tag == \"h2\":\n",
    "            if \"data-vr-contentbox\" in dict(attrs):\n",
    "                self.capture_txt=True\n",
    "        return      \n",
    "        \n",
    "    \n",
    "    def handle_endtag(self, tag):\n",
    "        if tag == \"h2\":\n",
    "             if self.capture_txt == True:\n",
    "                self.capture_txt=False\n",
    "        return\n",
    "    \n",
    "    def handle_data(self, data):\n",
    "        if self.capture_txt == True:\n",
    "            self.headlines.append(data)\n",
    "        return\n",
    "    \n",
    "    def getheadlines(self):\n",
    "        print \"1: \" + self.headlines[0]\n",
    "        print \"2: \" + self.headlines[1]\n",
    "        print \"3: \" + self.headlines[2]\n",
    "            \n",
    "            \n",
    "url=\"http://www.20min.ch/digital/\"\n",
    "res = urllib2.urlopen(url)        \n",
    "encoding = \"iso-8859-1\"\n",
    "html = res.read().decode(encoding)   \n",
    "parser = DigitalHeadLine()\n",
    "parser.feed(html)\n",
    "print parser.getheadlines()"
   ]
  }
 ],
 "metadata": {
  "anaconda-cloud": {},
  "kernelspec": {
   "display_name": "Python [default]",
   "language": "python",
   "name": "python3"
  },
  "language_info": {
   "codemirror_mode": {
    "name": "ipython",
    "version": 3
   },
   "file_extension": ".py",
   "mimetype": "text/x-python",
   "name": "python",
   "nbconvert_exporter": "python",
   "pygments_lexer": "ipython3",
   "version": "3.5.2"
  }
 },
 "nbformat": 4,
 "nbformat_minor": 0
}
