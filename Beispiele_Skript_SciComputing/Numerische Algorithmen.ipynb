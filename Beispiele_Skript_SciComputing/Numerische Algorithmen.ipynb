{
 "cells": [
  {
   "cell_type": "code",
   "execution_count": 2,
   "metadata": {
    "collapsed": true
   },
   "outputs": [],
   "source": [
    "def betrag(x):\n",
    "    if x<0:\n",
    "        return -x\n",
    "    else:\n",
    "        return x"
   ]
  },
  {
   "cell_type": "code",
   "execution_count": 3,
   "metadata": {
    "collapsed": false
   },
   "outputs": [
    {
     "name": "stdout",
     "output_type": "stream",
     "text": [
      "5\n",
      "3\n"
     ]
    }
   ],
   "source": [
    "# Test\n",
    "\n",
    "print betrag(-5)\n",
    "print betrag(3)"
   ]
  },
  {
   "cell_type": "code",
   "execution_count": 4,
   "metadata": {
    "collapsed": false
   },
   "outputs": [
    {
     "name": "stdout",
     "output_type": "stream",
     "text": [
      "12\n",
      "9\n"
     ]
    }
   ],
   "source": [
    "# Optionale Parameter mit Defualtwert\n",
    "def f(x,y=1):\n",
    "    return x+y\n",
    "\n",
    "print f(5,7)\n",
    "\n",
    "print f(8)"
   ]
  },
  {
   "cell_type": "code",
   "execution_count": 5,
   "metadata": {
    "collapsed": true
   },
   "outputs": [],
   "source": [
    "def heron(a,x=1.0,epsilon=0.00000000001):\n",
    "    while True:\n",
    "        if betrag(a-x*x)<epsilon:\n",
    "            return x\n",
    "        x=(x+a/x)/2.0"
   ]
  },
  {
   "cell_type": "code",
   "execution_count": 7,
   "metadata": {
    "collapsed": false
   },
   "outputs": [
    {
     "name": "stdout",
     "output_type": "stream",
     "text": [
      "2.2360679775\n",
      "2.2360679775\n"
     ]
    }
   ],
   "source": [
    "## Test Heron\n",
    "from math import sqrt\n",
    "\n",
    "print heron(5)\n",
    "print sqrt(5)"
   ]
  },
  {
   "cell_type": "code",
   "execution_count": 8,
   "metadata": {
    "collapsed": true
   },
   "outputs": [],
   "source": [
    "def quadrat(x):\n",
    "    return x*x"
   ]
  },
  {
   "cell_type": "code",
   "execution_count": 9,
   "metadata": {
    "collapsed": true
   },
   "outputs": [],
   "source": [
    "def Power(x,y):\n",
    "    if y < 0:\n",
    "        return 1/Power(x,-y)\n",
    "    if y == 1.0:\n",
    "        return x\n",
    "    if y == 0.0:\n",
    "        return 1.0\n",
    "    if y > 1:\n",
    "        return x*Power(x,y-1)\n",
    "    if y < 1:\n",
    "        return Power(heron(x),2*y)"
   ]
  },
  {
   "cell_type": "code",
   "execution_count": 14,
   "metadata": {
    "collapsed": true
   },
   "outputs": [],
   "source": [
    "def Power2(x,y,epsilon=0.0000001):\n",
    "    if y < 0:\n",
    "        return 1/Power2(x,-y)\n",
    "    if betrag(y-1) < epsilon:\n",
    "        return x\n",
    "    if y == 0.0:\n",
    "        return 1.0\n",
    "    if y >= 2:\n",
    "        return Power2(x*x,y/2.0)\n",
    "    if y > 1:\n",
    "        return x*Power2(x,y-1)\n",
    "    if y < 1:\n",
    "        return Power2(heron(x),2*y)"
   ]
  },
  {
   "cell_type": "code",
   "execution_count": 18,
   "metadata": {
    "collapsed": false
   },
   "outputs": [
    {
     "name": "stdout",
     "output_type": "stream",
     "text": [
      "65536\n",
      "0.00390625\n",
      "0.00390625\n"
     ]
    }
   ],
   "source": [
    "## Test Power2\n",
    "\n",
    "print Power2(2,16)\n",
    "\n",
    "print Power2(0.5, 8)\n",
    "\n",
    "print 0.5 ** 8"
   ]
  },
  {
   "cell_type": "markdown",
   "metadata": {},
   "source": [
    "### Sin berechnen mit Hilfe der Additionstheoreme\n",
    "\n",
    "$ \\sin( \\alpha + \\beta) = \\sin( \\alpha) \\cdot \\cos( \\beta) + \\sin(\\beta) \\cdot \\cos(\\alpha) $\n",
    "\n",
    "dies nutzt man:\n",
    "\n",
    "$ \\sin(x) = \\sin( \\frac{x}{2} + \\frac{x}{2}) = 2 \\cdot \\sin(\\frac{x}{2}) \\cdot \\cos(\\frac{x}{2})= 2 \\cdot \\sin(\\frac{x}{2}) \\sqrt{(1-\\sin(\\frac{x}{2})^2)} $"
   ]
  },
  {
   "cell_type": "code",
   "execution_count": 22,
   "metadata": {
    "collapsed": false
   },
   "outputs": [
    {
     "name": "stdout",
     "output_type": "stream",
     "text": [
      "9 \tx= 0.157079632679 \tsin= 0.15643446504 \tmysin= 0.156434465042\n",
      "19 \tx= 0.331612557879 \tsin= 0.325568154457 \tmysin= 0.325568154459\n",
      "29 \tx= 0.506145483078 \tsin= 0.484809620246 \tmysin= 0.484809620249\n",
      "39 \tx= 0.680678408278 \tsin= 0.62932039105 \tmysin= 0.629320391053\n",
      "49 \tx= 0.855211333477 \tsin= 0.754709580223 \tmysin= 0.754709580225\n",
      "59 \tx= 1.02974425868 \tsin= 0.857167300702 \tmysin= 0.857167300706\n",
      "69 \tx= 1.20427718388 \tsin= 0.933580426497 \tmysin= 0.933580426501\n",
      "79 \tx= 1.37881010908 \tsin= 0.981627183448 \tmysin= 0.981627183449\n",
      "89 \tx= 1.55334303427 \tsin= 0.999847695156 \tmysin= 0.999847695157\n",
      "99 \tx= 1.72787595947 \tsin= 0.987688340595 \tmysin= 0.987688340594\n",
      "109 \tx= 1.90240888467 \tsin= 0.945518575599 \tmysin= 0.945518575596\n",
      "119 \tx= 2.07694180987 \tsin= 0.874619707139 \tmysin= 0.874619707132\n",
      "129 \tx= 2.25147473507 \tsin= 0.777145961457 \tmysin= 0.777145961442\n",
      "139 \tx= 2.42600766027 \tsin= 0.656059028991 \tmysin= 0.656059028976\n",
      "149 \tx= 2.60054058547 \tsin= 0.51503807491 \tmysin= 0.515038074899\n",
      "159 \tx= 2.77507351067 \tsin= 0.358367949545 \tmysin= 0.358367949568\n",
      "169 \tx= 2.94960643587 \tsin= 0.190808995377 \tmysin= 0.190808995349\n",
      "179 \tx= 3.12413936107 \tsin= 0.0174524064373 \tmysin= 0.0174524068077\n"
     ]
    }
   ],
   "source": [
    "from math import pi,sin\n",
    "def mysin(x):\n",
    "    if betrag(x)<0.000001:\n",
    "        return x\n",
    "    sinxhalbe = mysin(x/2)\n",
    "    return 2*sinxhalbe * heron(1-quadrat(sinxhalbe))\n",
    "\n",
    "for w in range(9,180,10):\n",
    "    x = w/180.0*pi\n",
    "    print w,\"\\tx=\",x,\"\\tsin=\",sin(x),\"\\tmysin=\",mysin(x)\n",
    "    "
   ]
  },
  {
   "cell_type": "markdown",
   "metadata": {},
   "source": [
    "## Lo"
   ]
  }
 ],
 "metadata": {
  "kernelspec": {
   "display_name": "Python 2",
   "language": "python",
   "name": "python2"
  },
  "language_info": {
   "codemirror_mode": {
    "name": "ipython",
    "version": 2
   },
   "file_extension": ".py",
   "mimetype": "text/x-python",
   "name": "python",
   "nbconvert_exporter": "python",
   "pygments_lexer": "ipython2",
   "version": "2.7.6"
  }
 },
 "nbformat": 4,
 "nbformat_minor": 0
}
