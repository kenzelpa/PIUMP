{
 "cells": [
  {
   "cell_type": "markdown",
   "metadata": {},
   "source": [
    "### Schleifen\n",
    "\n",
    "#### Tabelle zur Umrechnung von Celsius nach Fahrenheit\n",
    "\n",
    "| Celsius | Fahrenheit |\n",
    "|---------|------------|\n",
    "| -20     | -4       |\n",
    "| -15     |  5       |\n",
    "| -10     |  14       |\n",
    "| -5     |  23       |\n",
    "| 0     |  32       |\n",
    "| 5     |  41       |\n",
    "| 10     |  50       |\n",
    "| 15     |  59       |\n",
    "| 20    |  68       |\n",
    "| 25     |  77       |\n",
    "| 30     |  86       |\n",
    "| 35     |  95       |\n",
    "| 40     |  104       |"
   ]
  },
  {
   "cell_type": "markdown",
   "metadata": {},
   "source": [
    "#### Ohne Schleifen nur Copy / Paste"
   ]
  },
  {
   "cell_type": "code",
   "execution_count": 1,
   "metadata": {},
   "outputs": [
    {
     "name": "stdout",
     "output_type": "stream",
     "text": [
      "-20 -4.0\n",
      "-15 5.0\n",
      "-10 14.0\n",
      "-5 23.0\n",
      "0 32.0\n",
      "5 41.0\n",
      "10 50.0\n",
      "15 59.0\n",
      "20 68.0\n",
      "25 77.0\n",
      "30 86.0\n",
      "35 95.0\n",
      "40 104.0\n"
     ]
    }
   ],
   "source": [
    "C=-20; F=9.0/5*C+32; print (C,F) \n",
    "C=-15; F=9.0/5*C+32; print (C,F)\n",
    "C=-10; F=9.0/5*C+32; print (C,F)\n",
    "C= -5; F=9.0/5*C+32; print (C,F)\n",
    "C= 0; F=9.0/5*C+32; print (C,F)\n",
    "C= 5; F=9.0/5*C+32; print (C,F) \n",
    "C= 10; F=9.0/5*C+32; print (C,F)\n",
    "C= 15; F=9.0/5*C+32; print (C,F)\n",
    "C= 20; F=9.0/5*C+32; print (C,F) \n",
    "C= 25; F=9.0/5*C+32; print (C,F)\n",
    "C= 30; F=9.0/5*C+32; print (C,F) \n",
    "C= 35; F=9.0/5*C+32; print (C,F)\n",
    "C= 40; F=9.0/5*C+32; print (C,F)"
   ]
  },
  {
   "cell_type": "markdown",
   "metadata": {},
   "source": [
    "### While Schleife"
   ]
  },
  {
   "cell_type": "code",
   "execution_count": 2,
   "metadata": {},
   "outputs": [
    {
     "name": "stdout",
     "output_type": "stream",
     "text": [
      "------------------\n",
      "-20 -4.0\n",
      "-15 5.0\n",
      "-10 14.0\n",
      "-5 23.0\n",
      "0 32.0\n",
      "5 41.0\n",
      "10 50.0\n",
      "15 59.0\n",
      "20 68.0\n",
      "25 77.0\n",
      "30 86.0\n",
      "35 95.0\n",
      "40 104.0\n",
      "------------------\n"
     ]
    }
   ],
   "source": [
    "print ('------------------')\n",
    "C = -20                 # Startwert von C\n",
    "dC = 5                  # Erhöhung pro Durchlauf\n",
    "while C <= 40:          # Schleifenkopf\n",
    "    F = (9.0/5)*C + 32  # 1. Anweisung in der Schleife\n",
    "    print (C, F)          # 2. Anweisung in der Schleife\n",
    "    C = C + dC          # 3. Anweisung in der Schleife\n",
    "print ('------------------')"
   ]
  },
  {
   "cell_type": "markdown",
   "metadata": {},
   "source": [
    "### Logische Ausdrücke"
   ]
  },
  {
   "cell_type": "code",
   "execution_count": 4,
   "metadata": {},
   "outputs": [
    {
     "name": "stdout",
     "output_type": "stream",
     "text": [
      "False\n",
      "True\n",
      "True\n",
      "False\n",
      "True\n",
      "False\n"
     ]
    }
   ],
   "source": [
    "x=0\n",
    "y=1.2\n",
    "\n",
    "print ((x >= 0) and (y<1))\n",
    "print ((x >= 0) or (y<1))\n",
    "print ((x > 0) or (y>1))\n",
    "print ((x > 0) or not (y>1))\n",
    "print ((-1<x<=0)) # -1<x and x<=0\n",
    "print (not (x>0 or y>0))"
   ]
  },
  {
   "cell_type": "markdown",
   "metadata": {},
   "source": [
    "### Berechnung endlicher Summen\n",
    "\n",
    "Zum Beispiel lassen sich alle trigonometrischen Funktionen als Summen darstellen.\n",
    "\n",
    "Näherung von $sin(x)$ mit Hilfe einer endlichen Summe.\n",
    "\n",
    "$$\\sin{(x)} = x - \\frac{x^{3}}{3!} +\\frac{x^{5}}{5!} -\\frac{x^{7}}{7!} + ...$$\n",
    "\n",
    "\n",
    "Berechnung der Summe bis zur Ordnung $N=25$."
   ]
  },
  {
   "cell_type": "code",
   "execution_count": 6,
   "metadata": {},
   "outputs": [
    {
     "name": "stdout",
     "output_type": "stream",
     "text": [
      "sin(1.2) = 0.932039 (angenähert bis Ordnung 25 )\n"
     ]
    }
   ],
   "source": [
    "x = 1.2    # x Wert für sin(x)\n",
    "N = 25     # Maximale Ordnung\n",
    "k = 1      # Zähler über die ungeraden Zahlen 1,3,5, ...\n",
    "s = x      # Der erste Summand wird gleich zugeornet\n",
    "sign = 1.0 \n",
    "import math\n",
    "\n",
    "while k <= N:\n",
    "    sign = - sign\n",
    "    k=k+2\n",
    "    term = sign*x**k/math.factorial(k) \n",
    "    s = s + term\n",
    "\n",
    "print ('sin(%g) = %g (angenähert bis Ordnung %d )' % (x, s, N))"
   ]
  },
  {
   "cell_type": "code",
   "execution_count": 7,
   "metadata": {},
   "outputs": [
    {
     "name": "stdout",
     "output_type": "stream",
     "text": [
      "0.9320390859672263\n"
     ]
    }
   ],
   "source": [
    "from math import sin as sin\n",
    "\n",
    "print (sin(1.2))\n"
   ]
  },
  {
   "cell_type": "markdown",
   "metadata": {},
   "source": [
    "### Listen"
   ]
  },
  {
   "cell_type": "code",
   "execution_count": 9,
   "metadata": {},
   "outputs": [
    {
     "name": "stdout",
     "output_type": "stream",
     "text": [
      "[-20, -15, -10, -5, 0, 5, 10, 15, 20, 25, 30, 35]\n"
     ]
    }
   ],
   "source": [
    "C = [-20,-15,-10,-5,0,5,10,15,20,25,30] # Liste erzeugen\n",
    "C.append(35)\n",
    "print (C)"
   ]
  },
  {
   "cell_type": "code",
   "execution_count": 11,
   "metadata": {},
   "outputs": [
    {
     "name": "stdout",
     "output_type": "stream",
     "text": [
      "[-20, -15, -10, -5, 0, 5, 10, 15, 20, 25, 30, 35, 40, 45, 40, 45]\n"
     ]
    }
   ],
   "source": [
    "C = C + [40, 45] # C mit der Liste [40,45] erweitern.\n",
    "print (C)"
   ]
  },
  {
   "cell_type": "code",
   "execution_count": 12,
   "metadata": {},
   "outputs": [
    {
     "name": "stdout",
     "output_type": "stream",
     "text": [
      "[15, -20, -15, -10, -5, 0, 5, 10, 15, 20, 25, 30, 35, 40, 45, 40, 45]\n"
     ]
    }
   ],
   "source": [
    "C . insert (0 , 15) # Einf ̈ugen eines Elements 15 an der Stelle 0\n",
    "print (C)"
   ]
  },
  {
   "cell_type": "code",
   "execution_count": 13,
   "metadata": {},
   "outputs": [
    {
     "name": "stdout",
     "output_type": "stream",
     "text": [
      "[15, -20, -10, -5, 0, 5, 10, 15, 20, 25, 30, 35, 40, 45, 40, 45]\n"
     ]
    }
   ],
   "source": [
    "del C [ 2 ] # loescht das dritte Element aus der Liste\n",
    "print (C)"
   ]
  },
  {
   "cell_type": "code",
   "execution_count": 14,
   "metadata": {},
   "outputs": [
    {
     "name": "stdout",
     "output_type": "stream",
     "text": [
      "[15, -20, -5, 0, 5, 10, 15, 20, 25, 30, 35, 40, 45, 40, 45]\n"
     ]
    }
   ],
   "source": [
    "del C [ 2 ] # loescht nochmals das dritte Element aus der\n",
    "print (C)"
   ]
  },
  {
   "cell_type": "code",
   "execution_count": 15,
   "metadata": {},
   "outputs": [
    {
     "name": "stdout",
     "output_type": "stream",
     "text": [
      "15\n"
     ]
    }
   ],
   "source": [
    "print (len ( C )) # Laenge der Liste"
   ]
  },
  {
   "cell_type": "code",
   "execution_count": 16,
   "metadata": {},
   "outputs": [
    {
     "name": "stdout",
     "output_type": "stream",
     "text": [
      "6\n"
     ]
    }
   ],
   "source": [
    "C = [-20,-15,-10,-5,0,5,10,15,20,25,30]\n",
    "print (C.index(10)) # Liefert den Index des Elementes mit dem Wert 10"
   ]
  },
  {
   "cell_type": "code",
   "execution_count": 17,
   "metadata": {},
   "outputs": [
    {
     "name": "stdout",
     "output_type": "stream",
     "text": [
      "True\n"
     ]
    }
   ],
   "source": [
    "print (10 in C )# ist 10 ein Element in C ?"
   ]
  },
  {
   "cell_type": "code",
   "execution_count": 18,
   "metadata": {},
   "outputs": [
    {
     "name": "stdout",
     "output_type": "stream",
     "text": [
      "[-20, -15, -10, -5, 0, 5, 10, 15, 20, 25, 30]\n",
      "30\n"
     ]
    }
   ],
   "source": [
    "print (C)\n",
    "print (C[-1])"
   ]
  },
  {
   "cell_type": "code",
   "execution_count": 21,
   "metadata": {},
   "outputs": [
    {
     "name": "stdout",
     "output_type": "stream",
     "text": [
      "[-50, -47.5, -45.0, -42.5, -40.0, -37.5, -35.0, -32.5, -30.0, -27.5, -25.0, -22.5, -20.0, -17.5, -15.0, -12.5, -10.0, -7.5, -5.0, -2.5, 0.0, 2.5, 5.0, 7.5, 10.0, 12.5, 15.0, 17.5, 20.0, 22.5, 25.0, 27.5, 30.0, 32.5, 35.0, 37.5, 40.0, 42.5, 45.0, 47.5, 50.0, 52.5, 55.0, 57.5, 60.0, 62.5, 65.0, 67.5, 70.0, 72.5, 75.0, 77.5, 80.0, 82.5, 85.0, 87.5, 90.0, 92.5, 95.0, 97.5, 100.0, 102.5, 105.0, 107.5, 110.0, 112.5, 115.0, 117.5, 120.0, 122.5, 125.0, 127.5, 130.0, 132.5, 135.0, 137.5, 140.0, 142.5, 145.0, 147.5, 150.0, 152.5, 155.0, 157.5, 160.0, 162.5, 165.0, 167.5, 170.0, 172.5, 175.0, 177.5, 180.0, 182.5, 185.0, 187.5, 190.0, 192.5, 195.0, 197.5, 200.0]\n",
      "197.5\n"
     ]
    }
   ],
   "source": [
    "print (C)\n",
    "print (C[-2])"
   ]
  },
  {
   "cell_type": "markdown",
   "metadata": {},
   "source": [
    "### Liste mit Werten erstellen"
   ]
  },
  {
   "cell_type": "code",
   "execution_count": 20,
   "metadata": {},
   "outputs": [
    {
     "name": "stdout",
     "output_type": "stream",
     "text": [
      "[-50, -47.5, -45.0, -42.5, -40.0, -37.5, -35.0, -32.5, -30.0, -27.5, -25.0, -22.5, -20.0, -17.5, -15.0, -12.5, -10.0, -7.5, -5.0, -2.5, 0.0, 2.5, 5.0, 7.5, 10.0, 12.5, 15.0, 17.5, 20.0, 22.5, 25.0, 27.5, 30.0, 32.5, 35.0, 37.5, 40.0, 42.5, 45.0, 47.5, 50.0, 52.5, 55.0, 57.5, 60.0, 62.5, 65.0, 67.5, 70.0, 72.5, 75.0, 77.5, 80.0, 82.5, 85.0, 87.5, 90.0, 92.5, 95.0, 97.5, 100.0, 102.5, 105.0, 107.5, 110.0, 112.5, 115.0, 117.5, 120.0, 122.5, 125.0, 127.5, 130.0, 132.5, 135.0, 137.5, 140.0, 142.5, 145.0, 147.5, 150.0, 152.5, 155.0, 157.5, 160.0, 162.5, 165.0, 167.5, 170.0, 172.5, 175.0, 177.5, 180.0, 182.5, 185.0, 187.5, 190.0, 192.5, 195.0, 197.5, 200.0]\n"
     ]
    }
   ],
   "source": [
    "C = []\n",
    "C_value = -50\n",
    "C_max = 200\n",
    "while C_value <= C_max:\n",
    "    C.append(C_value)\n",
    "    C_value += 2.5\n",
    "print (C)"
   ]
  },
  {
   "cell_type": "markdown",
   "metadata": {},
   "source": [
    "### for-Schleife"
   ]
  },
  {
   "cell_type": "code",
   "execution_count": 42,
   "metadata": {},
   "outputs": [
    {
     "name": "stdout",
     "output_type": "stream",
     "text": [
      "Element der Liste:  0\n",
      "Element der Liste:  10\n",
      "Element der Liste:  20\n",
      "Element der Liste:  40\n",
      "Element der Liste:  100\n",
      "Die Liste temperature hat 5 Elemente\n"
     ]
    }
   ],
   "source": [
    "temperatur = [0, 10, 20, 40, 100]\n",
    "for C in temperatur:\n",
    "    print ('Element der Liste: ', C)\n",
    "print ('Die Liste temperature hat', len(temperatur), 'Elemente')"
   ]
  },
  {
   "cell_type": "markdown",
   "metadata": {},
   "source": [
    "### Ausgabe einer Tabelle"
   ]
  },
  {
   "cell_type": "code",
   "execution_count": 22,
   "metadata": {},
   "outputs": [
    {
     "name": "stdout",
     "output_type": "stream",
     "text": [
      "-20 -4.0\n",
      "-15 5.0\n",
      "-10 14.0\n",
      "-5 23.0\n",
      "0 32.0\n",
      "5 41.0\n",
      "10 50.0\n",
      "15 59.0\n",
      "20 68.0\n",
      "25 77.0\n",
      "30 86.0\n",
      "35 95.0\n",
      "40 104.0\n"
     ]
    }
   ],
   "source": [
    "Cdegrees = [-20, -15, -10, -5, 0, 5, 10, 15, 20, 25, 30, 35, 40] \n",
    "for C in Cdegrees:\n",
    "    F = (9.0/5)*C + 32\n",
    "    print (C, F)"
   ]
  },
  {
   "cell_type": "markdown",
   "metadata": {},
   "source": [
    "### Ausgabe formatieren "
   ]
  },
  {
   "cell_type": "code",
   "execution_count": 24,
   "metadata": {},
   "outputs": [
    {
     "name": "stdout",
     "output_type": "stream",
     "text": [
      "    C     F\n",
      "  -20  -4.0\n",
      "  -15   5.0\n",
      "  -10  14.0\n",
      "   -5  23.0\n",
      "    0  32.0\n",
      "    5  41.0\n",
      "   10  50.0\n",
      "   15  59.0\n",
      "   20  68.0\n",
      "   25  77.0\n",
      "   30  86.0\n",
      "   35  95.0\n",
      "   40 104.0\n"
     ]
    }
   ],
   "source": [
    "Cdegrees = [-20, -15, -10, -5, 0, 5, 10, 15, 20, 25, 30, 35, 40] \n",
    "print ('    C     F')\n",
    "for C in Cdegrees:\n",
    "    F = (9.0/5)*C + 32\n",
    "    print ('%5d %5.1f' % (C, F))"
   ]
  },
  {
   "cell_type": "markdown",
   "metadata": {},
   "source": [
    "### range-Funktion"
   ]
  },
  {
   "cell_type": "code",
   "execution_count": 25,
   "metadata": {},
   "outputs": [
    {
     "name": "stdout",
     "output_type": "stream",
     "text": [
      "[-20, -15, -10, -5, 0, 5, 10, 15, 20, 25, 30, 35, 40]\n"
     ]
    }
   ],
   "source": [
    "Cdegrees = []\n",
    "for C in range(-20, 45, 5):\n",
    "    Cdegrees.append(C)\n",
    "\n",
    "print (Cdegrees)"
   ]
  },
  {
   "cell_type": "code",
   "execution_count": 26,
   "metadata": {},
   "outputs": [
    {
     "name": "stdout",
     "output_type": "stream",
     "text": [
      "[-10.0, -7.5, -5.0, -2.5, 0.0, 2.5, 5.0, 7.5, 10.0, 12.5, 15.0, 17.5, 20.0, 22.5, 25.0, 27.5, 30.0, 32.5, 35.0, 37.5, 40.0]\n"
     ]
    }
   ],
   "source": [
    "Cdegrees = []\n",
    "for i in range(0, 21):\n",
    "    C = -10 + i*2.5\n",
    "    Cdegrees.append(C)\n",
    "    \n",
    "print (Cdegrees)"
   ]
  },
  {
   "cell_type": "markdown",
   "metadata": {},
   "source": [
    "### Schleifen mit Indizes"
   ]
  },
  {
   "cell_type": "code",
   "execution_count": 28,
   "metadata": {},
   "outputs": [
    {
     "name": "stdout",
     "output_type": "stream",
     "text": [
      "    C     F\n",
      "-10.0  14.0\n",
      " -7.5  18.5\n",
      " -5.0  23.0\n",
      " -2.5  27.5\n",
      "  0.0  32.0\n",
      "  2.5  36.5\n",
      "  5.0  41.0\n",
      "  7.5  45.5\n",
      " 10.0  50.0\n",
      " 12.5  54.5\n",
      " 15.0  59.0\n",
      " 17.5  63.5\n",
      " 20.0  68.0\n",
      " 22.5  72.5\n",
      " 25.0  77.0\n",
      " 27.5  81.5\n",
      " 30.0  86.0\n",
      " 32.5  90.5\n",
      " 35.0  95.0\n",
      " 37.5  99.5\n",
      " 40.0 104.0\n"
     ]
    }
   ],
   "source": [
    "Cdegrees = []\n",
    "n = 21\n",
    "C_min = -10\n",
    "C_max = 40\n",
    "dC = (C_max - C_min)/float(n-1) # increment in C \n",
    "for i in range(0, n):\n",
    "    C = -10 + i*dC\n",
    "    Cdegrees.append(C)\n",
    "\n",
    "Fdegrees = []\n",
    "for C in Cdegrees:\n",
    "    F = (9.0/5)*C + 32\n",
    "    Fdegrees.append(F)\n",
    "\n",
    "print ('    C     F')\n",
    "    \n",
    "for i in range(len(Cdegrees)):\n",
    "    C = Cdegrees[i]\n",
    "    F = Fdegrees[i]\n",
    "    print ('%5.1f %5.1f' % (C, F))"
   ]
  },
  {
   "cell_type": "markdown",
   "metadata": {},
   "source": [
    "#### Ohne append-Methode"
   ]
  },
  {
   "cell_type": "code",
   "execution_count": 29,
   "metadata": {},
   "outputs": [
    {
     "name": "stdout",
     "output_type": "stream",
     "text": [
      "-10.0  14.0\n",
      " -7.5  18.5\n",
      " -5.0  23.0\n",
      " -2.5  27.5\n",
      "  0.0  32.0\n",
      "  2.5  36.5\n",
      "  5.0  41.0\n",
      "  7.5  45.5\n",
      " 10.0  50.0\n",
      " 12.5  54.5\n",
      " 15.0  59.0\n",
      " 17.5  63.5\n",
      " 20.0  68.0\n",
      " 22.5  72.5\n",
      " 25.0  77.0\n",
      " 27.5  81.5\n",
      " 30.0  86.0\n",
      " 32.5  90.5\n",
      " 35.0  95.0\n",
      " 37.5  99.5\n",
      " 40.0 104.0\n"
     ]
    }
   ],
   "source": [
    "n = 21\n",
    "C_min = -10\n",
    "C_max = 40\n",
    "dC = (C_max - C_min)/float(n-1) # increment in C\n",
    "  \n",
    "Cdegrees = [0]*n\n",
    "for i in range(len(Cdegrees)):\n",
    "       Cdegrees[i] = -10 + i*dC\n",
    "\n",
    "Fdegrees = [0]*n\n",
    "for i in range(len(Cdegrees)):\n",
    "    Fdegrees[i] = (9.0/5)*Cdegrees[i] + 32\n",
    "\n",
    "for i in range(len(Cdegrees)):\n",
    "    print ('%5.1f %5.1f' % (Cdegrees[i], Fdegrees[i]))"
   ]
  },
  {
   "cell_type": "markdown",
   "metadata": {},
   "source": [
    "### Verschachtelte Liste"
   ]
  },
  {
   "cell_type": "code",
   "execution_count": 30,
   "metadata": {},
   "outputs": [
    {
     "name": "stdout",
     "output_type": "stream",
     "text": [
      "[range(-20, 41, 5), [-4.0, 5.0, 14.0, 23.0, 32.0, 41.0, 50.0, 59.0, 68.0, 77.0, 86.0, 95.0, 104.0]]\n"
     ]
    }
   ],
   "source": [
    "Cdegrees = range(-20, 41, 5) # -20, -15, ..., 35, 40 \n",
    "Fdegrees = [0]*len(Cdegrees)\n",
    "for i in range(len(Cdegrees)):\n",
    "    Fdegrees[i] = (9.0/5)*Cdegrees[i] + 32\n",
    "\n",
    "table = [Cdegrees, Fdegrees]\n",
    "print (table)"
   ]
  },
  {
   "cell_type": "code",
   "execution_count": 31,
   "metadata": {},
   "outputs": [
    {
     "name": "stdout",
     "output_type": "stream",
     "text": [
      "[[-20, -4.0], [-15, 5.0], [-10, 14.0], [-5, 23.0], [0, 32.0], [5, 41.0], [10, 50.0], [15, 59.0], [20, 68.0], [25, 77.0], [30, 86.0], [35, 95.0], [40, 104.0]]\n"
     ]
    }
   ],
   "source": [
    "Cdegrees = range(-20, 41, 5) # -20, -15, ..., 35, 40 \n",
    "Fdegrees = [0]*len(Cdegrees)\n",
    "for i in range(len(Cdegrees)):\n",
    "    Fdegrees[i] = (9.0/5)*Cdegrees[i] + 32\n",
    "\n",
    "table = []\n",
    "for C, F in zip(Cdegrees, Fdegrees):\n",
    "     table.append([C, F])\n",
    "print (table)"
   ]
  },
  {
   "cell_type": "markdown",
   "metadata": {},
   "source": [
    "### Teillisten"
   ]
  },
  {
   "cell_type": "code",
   "execution_count": 32,
   "metadata": {},
   "outputs": [
    {
     "name": "stdout",
     "output_type": "stream",
     "text": [
      "[8, 10]\n"
     ]
    }
   ],
   "source": [
    "A = [2, 3.5, 8, 10]\n",
    "print (A[2:])"
   ]
  },
  {
   "cell_type": "code",
   "execution_count": 33,
   "metadata": {},
   "outputs": [
    {
     "name": "stdout",
     "output_type": "stream",
     "text": [
      "[3.5, 8]\n"
     ]
    }
   ],
   "source": [
    "A = [2, 3.5, 8, 10]\n",
    "print (A[1:3])"
   ]
  },
  {
   "cell_type": "code",
   "execution_count": 34,
   "metadata": {},
   "outputs": [
    {
     "name": "stdout",
     "output_type": "stream",
     "text": [
      "[2, 3.5, 8]\n"
     ]
    }
   ],
   "source": [
    "A = [2, 3.5, 8, 10]\n",
    "print (A[:3])"
   ]
  },
  {
   "cell_type": "code",
   "execution_count": 36,
   "metadata": {},
   "outputs": [
    {
     "name": "stdout",
     "output_type": "stream",
     "text": [
      "[3.5, 8]\n",
      "[2, 3.5, 8, 10]\n"
     ]
    }
   ],
   "source": [
    "A = [2, 3.5, 8, 10]\n",
    "print (A[1:-1])\n",
    "print (A[:])"
   ]
  },
  {
   "cell_type": "code",
   "execution_count": 37,
   "metadata": {},
   "outputs": [
    {
     "name": "stdout",
     "output_type": "stream",
     "text": [
      "[[12, 16, 11, 12], [9], [6, 9, 11, 14, 17, 15, 14, 20]]\n"
     ]
    }
   ],
   "source": [
    "scores = []\n",
    "scores.append([12, 16, 11, 12]) # player no. 0\n",
    "scores . append ([9]) # player no. 1\n",
    "scores.append([6, 9, 11, 14, 17, 15, 14, 20]) # player no. 2\n",
    "print (scores)"
   ]
  },
  {
   "cell_type": "code",
   "execution_count": 38,
   "metadata": {},
   "outputs": [
    {
     "name": "stdout",
     "output_type": "stream",
     "text": [
      "  12\n",
      "  16\n",
      "  11\n",
      "  12\n",
      "\n",
      "   9\n",
      "\n",
      "   6\n",
      "   9\n",
      "  11\n",
      "  14\n",
      "  17\n",
      "  15\n",
      "  14\n",
      "  20\n",
      "\n"
     ]
    }
   ],
   "source": [
    "for p in range(len(scores )):\n",
    "    for g in range(len(scores[p])):\n",
    "        score = scores[p][g]\n",
    "        print ('%4d' % score , )\n",
    "    print()"
   ]
  },
  {
   "cell_type": "code",
   "execution_count": 40,
   "metadata": {},
   "outputs": [
    {
     "name": "stdout",
     "output_type": "stream",
     "text": [
      "  12,  16,  11,  12,\n",
      "   9,\n",
      "   6,   9,  11,  14,  17,  15,  14,  20,\n"
     ]
    }
   ],
   "source": [
    "for player in scores:\n",
    "    for game in player:\n",
    "        print ('%4d' % game, end=' ')\n",
    "    print()"
   ]
  },
  {
   "cell_type": "markdown",
   "metadata": {},
   "source": [
    "### Methoden und Operationen mit Listen\n",
    "\n",
    "| Ausdruck     | Beschreibung                      |\n",
    "|--------------|-----------------------------------|\n",
    "|a = []  | Initialisierung einer leeren Liste |\n",
    "|a = [1, 4.4, 'run.py'] | Initialisierung einer Liste mit den entspr. Elementen \\\\\n",
    "|a.append(elem) | Der Liste a wird ein Objekt elem angehängt |\n",
    "|a + [1,3] |Zwei Listen zusammenfügen (addieren) |\n",
    "|a.insert(i, e) |Das Element e wird an der Stelle i eingefügt |\n",
    "|a[3] |Das 4. Element wird referenziert (angesprochen)|\n",
    "|a[0] |Das erste Element wird referenziert|\n",
    "|a[-1] |Das letzte Element wird rferenziert |\n",
    "|a[1:3] |Eine Kopie einer Teilliste wird erstellt  |\n",
    "|del a[3] |Das 4. Element wird gelöscht  |\n",
    "|a.remove(e) |Das Element e wird aus der Liste entfernt |\n",
    "|a.index('run.py') |Der Index von dem Element 'run.py' wird ermittelt|\n",
    "|a.count(v) |Alle Elemente mit dem Inhalt v werden gezählt|\n",
    "|a.reverse() |Invertiert die Reihenfolge der Elemente|\n",
    "|len(a) |Anzahl Elemente der Liste a  |\n",
    "|min(a) |Das kleinste Element der Liste a|\n",
    "|max(a) |Das Grösste Element der Liste a|\n",
    "|sum(a) |Die Summe aller Elemente der Liste|\n",
    "|sorted(a) |Gibt eine sortierte Liste a aus|"
   ]
  },
  {
   "cell_type": "markdown",
   "metadata": {
    "collapsed": true
   },
   "source": [
    "# Problem 6 \n",
    "\n",
    "Let a, b be positive integer such that $ab+1$ divides $a^2+b^2$. Show that \n",
    "$\\frac{a^2+b^2}{ab+1}$ is a square of an integer. \n",
    "\n",
    "https://www.youtube.com/watch?v=L0Vj_7Y2-xY"
   ]
  },
  {
   "cell_type": "code",
   "execution_count": 9,
   "metadata": {},
   "outputs": [
    {
     "name": "stdout",
     "output_type": "stream",
     "text": [
      "a=1 b=1 L=1\n",
      "a=2 b=8 L=4\n",
      "a=3 b=27 L=9\n",
      "a=8 b=2 L=4\n",
      "a=8 b=30 L=4\n",
      "a=27 b=3 L=9\n",
      "a=30 b=8 L=4\n"
     ]
    }
   ],
   "source": [
    "from math import sqrt, floor\n",
    "for a in range(1,60):\n",
    "    for b in range(1,60):\n",
    "        tmp = (a**2+b**2)/(a*b+1)\n",
    "        if (tmp-floor(tmp))**2 < 1e-16:\n",
    "            print ('a=%d b=%d L=%d'%(a,b,tmp))\n",
    "        "
   ]
  },
  {
   "cell_type": "markdown",
   "metadata": {},
   "source": [
    "# Endziffer von Quadratzahlen"
   ]
  },
  {
   "cell_type": "code",
   "execution_count": 3,
   "metadata": {},
   "outputs": [
    {
     "name": "stdout",
     "output_type": "stream",
     "text": [
      "0\n",
      "1\n",
      "4\n",
      "9\n",
      "6\n",
      "5\n",
      "6\n",
      "9\n",
      "4\n",
      "1\n",
      "0\n",
      "1\n",
      "4\n",
      "9\n",
      "6\n",
      "5\n",
      "6\n",
      "9\n",
      "4\n",
      "1\n"
     ]
    }
   ],
   "source": [
    "for z in range(20):\n",
    "    print(z**2%10)"
   ]
  },
  {
   "cell_type": "code",
   "execution_count": null,
   "metadata": {},
   "outputs": [],
   "source": []
  },
  {
   "cell_type": "code",
   "execution_count": null,
   "metadata": {},
   "outputs": [],
   "source": []
  },
  {
   "cell_type": "code",
   "execution_count": null,
   "metadata": {},
   "outputs": [],
   "source": []
  }
 ],
 "metadata": {
  "kernelspec": {
   "display_name": "Python 3",
   "language": "python",
   "name": "python3"
  },
  "language_info": {
   "codemirror_mode": {
    "name": "ipython",
    "version": 3
   },
   "file_extension": ".py",
   "mimetype": "text/x-python",
   "name": "python",
   "nbconvert_exporter": "python",
   "pygments_lexer": "ipython3",
   "version": "3.6.4"
  }
 },
 "nbformat": 4,
 "nbformat_minor": 1
}
