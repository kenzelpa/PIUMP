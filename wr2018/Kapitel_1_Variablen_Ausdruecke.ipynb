{
 "cells": [
  {
   "cell_type": "markdown",
   "metadata": {},
   "source": [
    "## Das erste Programm"
   ]
  },
  {
   "cell_type": "code",
   "execution_count": 1,
   "metadata": {},
   "outputs": [
    {
     "name": "stdout",
     "output_type": "stream",
     "text": [
      "12\n"
     ]
    }
   ],
   "source": [
    "print (4*3)"
   ]
  },
  {
   "cell_type": "code",
   "execution_count": 2,
   "metadata": {},
   "outputs": [
    {
     "data": {
      "text/plain": [
       "12"
      ]
     },
     "execution_count": 2,
     "metadata": {},
     "output_type": "execute_result"
    }
   ],
   "source": [
    "4*3"
   ]
  },
  {
   "cell_type": "markdown",
   "metadata": {},
   "source": [
    "### Vertikaler Wurf\n",
    "\n",
    "$$\n",
    "y(t) = v_{0} t - \\frac{1}{2} g t^{2}\n",
    "$$\n",
    "\n",
    "#### Die maximale Wurfhöhe wird nach t Sekunden erreicht\n",
    "\n",
    "$$\n",
    "v_{0} t - \\frac{1}{2} g t^{2} = t( v_{0}  - \\frac{1}{2} g t) = 0 \\Rightarrow t=0 \\mbox{ oder } t=2v_{0} /g\n",
    "$$\n",
    "\n",
    "Für $v_{0}=5 m/s$  und $g=9.81 m/s^{2}$ kehrt der Ball nach $t=2v_{0} /g\\approx 1 s$ zurück.\n",
    "\n",
    "Wo befindet sich der Ball nach 0.7 Sekunden?\n",
    "\n",
    "$$\n",
    "y = 5 \\cdot 0.7-\\frac{1}{2}\\cdot 9.81\\cdot 0.7^{ 2}\n",
    "$$\n"
   ]
  },
  {
   "cell_type": "code",
   "execution_count": 4,
   "metadata": {},
   "outputs": [
    {
     "name": "stdout",
     "output_type": "stream",
     "text": [
      "1.0965500000000001\n"
     ]
    }
   ],
   "source": [
    " print (5*0.7 - 0.5*9.81*0.7**2)"
   ]
  },
  {
   "cell_type": "markdown",
   "metadata": {},
   "source": [
    "### Einsatz von Variablen"
   ]
  },
  {
   "cell_type": "code",
   "execution_count": 5,
   "metadata": {},
   "outputs": [
    {
     "name": "stdout",
     "output_type": "stream",
     "text": [
      "1.0965500000000001\n"
     ]
    }
   ],
   "source": [
    "# Programm zur Höhenberechnung eines vertikalen Wurfs \n",
    "v0 = 5     # Anfangsgeschwindigkeit \n",
    "g = 9.81   # Erdbeschleunigung\n",
    "t=0.7      # Zeit\n",
    "y = v0*t - 0.5*g*t**2 # Vertikale Position\n",
    "print(y)"
   ]
  },
  {
   "cell_type": "code",
   "execution_count": 7,
   "metadata": {},
   "outputs": [
    {
     "name": "stdout",
     "output_type": "stream",
     "text": [
      "10\n",
      "20\n",
      "25\n",
      "27\n",
      "28.5\n"
     ]
    }
   ],
   "source": [
    "for elem in [10, 20, 25, 27, 28.5]:\n",
    "    print(elem,)"
   ]
  },
  {
   "cell_type": "markdown",
   "metadata": {},
   "source": [
    "### Formatierte Ausgabe"
   ]
  },
  {
   "cell_type": "code",
   "execution_count": 3,
   "metadata": {},
   "outputs": [
    {
     "name": "stdout",
     "output_type": "stream",
     "text": [
      "Nach t=0.7 s ist der Ball in einer Höhe von 1.10 m\n"
     ]
    }
   ],
   "source": [
    "v0 = 5\n",
    "g = 9.81\n",
    "t = 0.7\n",
    "y = v0*t - 0.5*g*t**2\n",
    "print 'Nach t=%g s ist der Ball in einer Höhe von %.2f m' % (t,y)"
   ]
  },
  {
   "cell_type": "markdown",
   "metadata": {},
   "source": [
    "### Wichtige Steuerzeichen der Formatierung"
   ]
  },
  {
   "cell_type": "markdown",
   "metadata": {},
   "source": [
    "| Zeichen | Bedeutung                       |\n",
    "|---------|---------------------------------|\n",
    "|%s       | String                          |\n",
    "|%d       |Ganze Zahl                       |\n",
    "|%0xd     |Ganze Zahl mit x voranstehenden 0|\n",
    "|%f       |Dezimalschreibweise mit 6 Stellen|\n",
    "|%e     |Kompakte wissenschaftliche Notation|\n",
    "|%g |Kompakte dezimale oder wissenschaftliche Notation|\n",
    "|%xz |Format z rechtsbündig in einem Feld der Grösse x |\n",
    "|%-xz |Format z linksbündig in einem Feld der Grösse x |\n",
    "|%.yz |Format z mit y Dezimalstellen |\n",
    "|%x.yz |Format z mit y Dezimalstellen in einem Feld der Grösse x |\n",
    "|%% |Prozentzeichen (%)|"
   ]
  },
  {
   "cell_type": "markdown",
   "metadata": {},
   "source": [
    "### Ausgabe über mehrere Zeilen mit spezieller Formatierung"
   ]
  },
  {
   "cell_type": "code",
   "execution_count": 5,
   "metadata": {},
   "outputs": [
    {
     "name": "stdout",
     "output_type": "stream",
     "text": [
      "\n",
      "Nach t=0.700000 s befindet sich der Ball\n",
      "mit einer Anfangsgeschwindigkeit v0=5.000E+00 m/s\n",
      "in einer Höhe von 1.10 m.\n",
      "\n"
     ]
    }
   ],
   "source": [
    "v0 = 5\n",
    "g = 9.81\n",
    "t = 0.7\n",
    "y = v0*t - 0.5*g*t**2\n",
    "print \"\"\"\n",
    "Nach t=%f s befindet sich der Ball\n",
    "mit einer Anfangsgeschwindigkeit v0=%.3E m/s\n",
    "in einer Höhe von %.2f m.\n",
    "\"\"\" % (t, v0, y)"
   ]
  },
  {
   "cell_type": "markdown",
   "metadata": {},
   "source": [
    "### Ganzzahlige (Integer) Division vermeiden"
   ]
  },
  {
   "cell_type": "code",
   "execution_count": 8,
   "metadata": {},
   "outputs": [
    {
     "name": "stdout",
     "output_type": "stream",
     "text": [
      "1\n",
      "1.8\n"
     ]
    }
   ],
   "source": [
    "print 9/5  ## ACHTUNG Integer Division\n",
    "\n",
    "print 9.0/5"
   ]
  },
  {
   "cell_type": "markdown",
   "metadata": {},
   "source": [
    "### Mathematische Funktionen berechnen"
   ]
  },
  {
   "cell_type": "markdown",
   "metadata": {},
   "source": [
    "Nach welcher Zeit hat der Ball die Höhe y ?\n",
    "\n",
    "$$\n",
    "y_{b} = v_{0} t - \\frac{1}{2} g t^{2}\n",
    "$$\n",
    "\n",
    "$$\n",
    "\\frac{1}{2} g t^{2}- v_{0} t +y_{b} =0\n",
    "$$\n",
    "\n",
    "Mögliche Lösungen dieser quadratischen Gleichung sind\n",
    "\n",
    "$$\n",
    "t_{1}=(v_{0}- \\sqrt{v_{0}^{2}-2gy_{b}} )/g \\mbox{ , } t_{2}=(v_{0}+ \\sqrt{v_{0}^{2}-2gy_{b}} )/g\n",
    "$$"
   ]
  },
  {
   "cell_type": "code",
   "execution_count": 13,
   "metadata": {},
   "outputs": [
    {
     "name": "stdout",
     "output_type": "stream",
     "text": [
      "Nach t=0.087513 s und 0.931855 s ist die Höhe von 0.4 m erreicht.\n"
     ]
    }
   ],
   "source": [
    "v0 = 5\n",
    "g = 9.81\n",
    "yb = 0.4\n",
    "import math\n",
    "t1 = (v0 - math.sqrt(v0**2 - 2*g*yb))/g\n",
    "t2 = (v0 + math.sqrt(v0**2 - 2*g*yb))/g\n",
    "print 'Nach t=%g s und %g s ist die Höhe von %g m erreicht.' % (t1, t2, yb)"
   ]
  },
  {
   "cell_type": "markdown",
   "metadata": {},
   "source": [
    "### Mathematik Bibliothek nutzen"
   ]
  },
  {
   "cell_type": "code",
   "execution_count": 16,
   "metadata": {},
   "outputs": [
    {
     "name": "stdout",
     "output_type": "stream",
     "text": [
      "1.22464679915e-16\n",
      "1.60943791243\n",
      "0.52005314707\n"
     ]
    }
   ],
   "source": [
    "import math as m\n",
    "# m ist neu der Name des math Moduls \n",
    "v = m.sin(m.pi)\n",
    "print v\n",
    "\n",
    "from math import log as ln \n",
    "v = ln(5)\n",
    "print v\n",
    "\n",
    "x = 1.2\n",
    "from math import sin as s, cos as c, log as ln \n",
    "v = s(x)*c(x) + ln(x)\n",
    "print v"
   ]
  },
  {
   "cell_type": "markdown",
   "metadata": {},
   "source": [
    "### 3 Möglichkeiten zur Berchnung von sinh"
   ]
  },
  {
   "cell_type": "code",
   "execution_count": 17,
   "metadata": {},
   "outputs": [
    {
     "name": "stdout",
     "output_type": "stream",
     "text": [
      "267.744894041 267.744894041 267.744894041\n"
     ]
    }
   ],
   "source": [
    "from math import sinh, exp, e, pi\n",
    "x = 2*pi\n",
    "r1 = sinh(x)\n",
    "r2 = 0.5*(exp(x) - exp(-x))\n",
    "r3 = 0.5*(e**x - e**(-x))\n",
    "print r1, r2, r3"
   ]
  },
  {
   "cell_type": "markdown",
   "metadata": {},
   "source": [
    "### Wie sieht das Resultat mit einer Genauigkeit auf 16 Stellen aus?"
   ]
  },
  {
   "cell_type": "code",
   "execution_count": 18,
   "metadata": {},
   "outputs": [
    {
     "name": "stdout",
     "output_type": "stream",
     "text": [
      "267.7448940410164369 267.7448940410164369 267.7448940410163232\n"
     ]
    }
   ],
   "source": [
    "from math import sinh, exp, e, pi\n",
    "x = 2*pi\n",
    "r1 = sinh(x)\n",
    "r2 = 0.5*(exp(x) - exp(-x))\n",
    "r3 = 0.5*(e**x - e**(-x))\n",
    "\n",
    "print '%.16f %.16f %.16f' % (r1,r2,r3)"
   ]
  },
  {
   "cell_type": "markdown",
   "metadata": {},
   "source": [
    "Auf Grund der internen Repräsentation von Dezimalzahlen (im Dualsystem) kann es im Bereich der 16ten Stelle nach dem Komma zu Rundungsfehlern kommen."
   ]
  },
  {
   "cell_type": "code",
   "execution_count": 19,
   "metadata": {},
   "outputs": [
    {
     "name": "stdout",
     "output_type": "stream",
     "text": [
      "0.9999999999999999 1.0000000000000000\n"
     ]
    }
   ],
   "source": [
    "print '%.16f %.16f' % (1/49.0*49, 1/51.0*51)"
   ]
  },
  {
   "cell_type": "markdown",
   "metadata": {},
   "source": [
    "### Rechnen mit komplexen Zahlen"
   ]
  },
  {
   "cell_type": "code",
   "execution_count": 20,
   "metadata": {},
   "outputs": [
    {
     "name": "stdout",
     "output_type": "stream",
     "text": [
      "(4.5+3j)\n",
      "(-2+0.5j)\n",
      "(-10.5-3.75j)\n",
      "(-0.25641025641+0.282051282051j)\n",
      "-2.0\n",
      "0.5\n",
      "(-2-0.5j)\n"
     ]
    }
   ],
   "source": [
    "u = complex(2.5,3)\n",
    "v = 2\n",
    "w = u + v\n",
    "print w\n",
    "a =-2\n",
    "b = 0.5\n",
    "s = complex(a,b)\n",
    "\n",
    "print s\n",
    "print s*w\n",
    "print s/w\n",
    "print s.real\n",
    "print s.imag\n",
    "print s.conjugate()"
   ]
  },
  {
   "cell_type": "markdown",
   "metadata": {},
   "source": [
    "### Trajektorie eines Balles\n",
    "\n",
    "die Bahnkurve eines Balles\n",
    "\n",
    "$$\n",
    "f(x) = x \\tan(\\Theta) - \\frac{1}{2 v^{2}_{0}}\\frac{g x^{2}}{\\cos^{2}(\\Theta)} + y_{0}\n",
    "$$"
   ]
  },
  {
   "cell_type": "code",
   "execution_count": 23,
   "metadata": {},
   "outputs": [
    {
     "name": "stdout",
     "output_type": "stream",
     "text": [
      "v0    = 15.0 km/h\n",
      "theta = 60 Grad\n",
      "y0    = 1.0 m\n",
      "x     = 0.5 m\n",
      "y     = 1.6 m\n"
     ]
    }
   ],
   "source": [
    "g = 9.81         # m/s**2 \n",
    "v0=15.0          # km/h  \n",
    "theta = 60.0     # Winkeleinheit Grad\n",
    "x=0.5            # m\n",
    "y0 = 1.0         # m\n",
    "  \n",
    "print \"\"\"\\\n",
    "v0    = %.1f km/h\n",
    "theta = %d Grad\n",
    "y0    = %.1f m\n",
    "x     = %.1f m\\\n",
    "\"\"\" % (v0, theta, y0, x)\n",
    "\n",
    "from math import pi, tan, cos\n",
    "# Umwandlung km/h -> m/s und Grad -> Radian\n",
    "v0 = v0/3.6\n",
    "theta = theta*pi/180\n",
    "\n",
    "y = x*tan(theta)-1/(2*v0**2)*g*x**2/((cos(theta))**2) + y0 \n",
    "print 'y     = %.1f m' % y"
   ]
  }
 ],
 "metadata": {
  "kernelspec": {
   "display_name": "Python 3",
   "language": "python",
   "name": "python3"
  },
  "language_info": {
   "codemirror_mode": {
    "name": "ipython",
    "version": 3
   },
   "file_extension": ".py",
   "mimetype": "text/x-python",
   "name": "python",
   "nbconvert_exporter": "python",
   "pygments_lexer": "ipython3",
   "version": "3.6.4"
  }
 },
 "nbformat": 4,
 "nbformat_minor": 1
}
