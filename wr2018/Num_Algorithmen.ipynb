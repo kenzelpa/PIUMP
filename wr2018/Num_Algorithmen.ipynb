{
 "cells": [
  {
   "cell_type": "code",
   "execution_count": 1,
   "metadata": {
    "collapsed": true
   },
   "outputs": [],
   "source": [
    "def betrag(x):\n",
    "    if x<0:\n",
    "        return -x\n",
    "    else:\n",
    "        return x"
   ]
  },
  {
   "cell_type": "code",
   "execution_count": 2,
   "metadata": {},
   "outputs": [
    {
     "name": "stdout",
     "output_type": "stream",
     "text": [
      "5\n",
      "3\n"
     ]
    }
   ],
   "source": [
    "# Test\n",
    "\n",
    "print betrag(-5)\n",
    "print betrag(3)"
   ]
  },
  {
   "cell_type": "code",
   "execution_count": 3,
   "metadata": {},
   "outputs": [
    {
     "name": "stdout",
     "output_type": "stream",
     "text": [
      "12\n",
      "9\n"
     ]
    }
   ],
   "source": [
    "# Optionale Parameter mit Defualtwert\n",
    "def f(x,y=1):\n",
    "    return x+y\n",
    "\n",
    "print f(5,7)\n",
    "\n",
    "print f(8)"
   ]
  },
  {
   "cell_type": "code",
   "execution_count": 4,
   "metadata": {
    "collapsed": true
   },
   "outputs": [],
   "source": [
    "def heron(a,x=1.0,epsilon=0.00000000001):\n",
    "    while True:\n",
    "        if betrag(a-x*x)<epsilon:\n",
    "            return x\n",
    "        x=(x+a/x)/2.0"
   ]
  },
  {
   "cell_type": "code",
   "execution_count": 5,
   "metadata": {},
   "outputs": [
    {
     "name": "stdout",
     "output_type": "stream",
     "text": [
      "2.2360679775\n",
      "2.2360679775\n"
     ]
    }
   ],
   "source": [
    "## Test Heron\n",
    "from math import sqrt\n",
    "\n",
    "print heron(5)\n",
    "print sqrt(5)"
   ]
  },
  {
   "cell_type": "code",
   "execution_count": 6,
   "metadata": {
    "collapsed": true
   },
   "outputs": [],
   "source": [
    "def quadrat(x):\n",
    "    return x*x"
   ]
  },
  {
   "cell_type": "code",
   "execution_count": 7,
   "metadata": {
    "collapsed": true
   },
   "outputs": [],
   "source": [
    "def Power(x,y):\n",
    "    if y < 0:\n",
    "        return 1/Power(x,-y)\n",
    "    if y == 1.0:\n",
    "        return x\n",
    "    if y == 0.0:\n",
    "        return 1.0\n",
    "    if y > 1:\n",
    "        return x*Power(x,y-1)\n",
    "    if y < 1:\n",
    "        return Power(heron(x),2*y)"
   ]
  },
  {
   "cell_type": "code",
   "execution_count": 8,
   "metadata": {},
   "outputs": [],
   "source": [
    "def Power2(x,y,epsilon=0.0000001):\n",
    "    if y < 0:\n",
    "        return 1/Power2(x,-y)\n",
    "    if betrag(y-1) < epsilon:\n",
    "        return x\n",
    "    if y == 0.0:\n",
    "        return 1.0\n",
    "    if y >= 2:\n",
    "        return Power2(x*x,y/2.0)\n",
    "    if y > 1:\n",
    "        return x*Power2(x,y-1)\n",
    "    if y < 1:\n",
    "        return Power2(heron(x),2*y)"
   ]
  },
  {
   "cell_type": "code",
   "execution_count": 24,
   "metadata": {},
   "outputs": [
    {
     "name": "stdout",
     "output_type": "stream",
     "text": [
      "65536\n",
      "1e-16\n",
      "1e-16\n"
     ]
    }
   ],
   "source": [
    "## Test Power2\n",
    "\n",
    "print Power2(2,16)\n",
    "\n",
    "print Power2(0.01, 8)\n",
    "\n",
    "print 0.01 ** 8"
   ]
  },
  {
   "cell_type": "markdown",
   "metadata": {},
   "source": [
    "### Sin berechnen mit Hilfe der Additionstheoreme\n",
    "\n",
    "$ \\sin( \\alpha + \\beta) = \\sin( \\alpha) \\cdot \\cos( \\beta) + \\sin(\\beta) \\cdot \\cos(\\alpha) $\n",
    "\n",
    "dies nutzt man:\n",
    "\n",
    "$ \\sin(x) = \\sin( \\frac{x}{2} + \\frac{x}{2}) = 2 \\cdot \\sin(\\frac{x}{2}) \\cdot \\cos(\\frac{x}{2})= 2 \\cdot \\sin(\\frac{x}{2}) \\sqrt{(1-\\sin(\\frac{x}{2})^2)} $"
   ]
  },
  {
   "cell_type": "code",
   "execution_count": 10,
   "metadata": {},
   "outputs": [
    {
     "name": "stdout",
     "output_type": "stream",
     "text": [
      "9 \tx= 0.157079632679 \tsin= 0.15643446504 \tmysin= 0.156434465042\n",
      "19 \tx= 0.331612557879 \tsin= 0.325568154457 \tmysin= 0.325568154459\n",
      "29 \tx= 0.506145483078 \tsin= 0.484809620246 \tmysin= 0.484809620249\n",
      "39 \tx= 0.680678408278 \tsin= 0.62932039105 \tmysin= 0.629320391053\n",
      "49 \tx= 0.855211333477 \tsin= 0.754709580223 \tmysin= 0.754709580225\n",
      "59 \tx= 1.02974425868 \tsin= 0.857167300702 \tmysin= 0.857167300706\n",
      "69 \tx= 1.20427718388 \tsin= 0.933580426497 \tmysin= 0.933580426501\n",
      "79 \tx= 1.37881010908 \tsin= 0.981627183448 \tmysin= 0.981627183449\n",
      "89 \tx= 1.55334303427 \tsin= 0.999847695156 \tmysin= 0.999847695157\n",
      "99 \tx= 1.72787595947 \tsin= 0.987688340595 \tmysin= 0.987688340594\n",
      "109 \tx= 1.90240888467 \tsin= 0.945518575599 \tmysin= 0.945518575596\n",
      "119 \tx= 2.07694180987 \tsin= 0.874619707139 \tmysin= 0.874619707132\n",
      "129 \tx= 2.25147473507 \tsin= 0.777145961457 \tmysin= 0.777145961442\n",
      "139 \tx= 2.42600766027 \tsin= 0.656059028991 \tmysin= 0.656059028976\n",
      "149 \tx= 2.60054058547 \tsin= 0.51503807491 \tmysin= 0.515038074899\n",
      "159 \tx= 2.77507351067 \tsin= 0.358367949545 \tmysin= 0.358367949568\n",
      "169 \tx= 2.94960643587 \tsin= 0.190808995377 \tmysin= 0.190808995349\n",
      "179 \tx= 3.12413936107 \tsin= 0.0174524064373 \tmysin= 0.0174524068077\n"
     ]
    }
   ],
   "source": [
    "from math import pi,sin\n",
    "def mysin(x):\n",
    "    if betrag(x)<0.000001:\n",
    "        return x\n",
    "    sinxhalbe = mysin(x/2)\n",
    "    return 2*sinxhalbe * heron(1-quadrat(sinxhalbe))\n",
    "\n",
    "for w in range(9,180,10):\n",
    "    x = w/180.0*pi\n",
    "    print w,\"\\tx=\",x,\"\\tsin=\",sin(x),\"\\tmysin=\",mysin(x)\n",
    "    "
   ]
  },
  {
   "cell_type": "code",
   "execution_count": 11,
   "metadata": {},
   "outputs": [
    {
     "name": "stdout",
     "output_type": "stream",
     "text": [
      "60 \tcos(x)= 0.5 \tmycos(x)= 0.500000101893\n"
     ]
    }
   ],
   "source": [
    "from math import pi,cos\n",
    "def mycos(x):\n",
    "    if betrag(x)<0.00001:\n",
    "        return 1-x*x/2\n",
    "    return 2*quadrat(mycos(x/2))-1\n",
    "\n",
    "alpha = 60 \n",
    "w = pi/180*alpha\n",
    "\n",
    "print alpha,\"\\tcos(x)=\",cos(w),\"\\tmycos(x)=\",mycos(w)"
   ]
  },
  {
   "cell_type": "markdown",
   "metadata": {},
   "source": [
    "## Logarithmus\n",
    "\n",
    "Als Umkehrfunktion zu Potenzen\n",
    "\n",
    "$ y = log_b(x) \\Leftrightarrow b^y=x $"
   ]
  },
  {
   "cell_type": "code",
   "execution_count": 12,
   "metadata": {},
   "outputs": [
    {
     "name": "stdout",
     "output_type": "stream",
     "text": [
      "1000000000 \t log10= 9.0 \t mylog0(z,10)= 9.0\n"
     ]
    }
   ],
   "source": [
    "from math import log10\n",
    "def mylog0(x,b):\n",
    "    if x<1:\n",
    "        return -mylog0(1.0/x,b) # benutzt log(x)=log(1/(1/x))=-log(1/x)\n",
    "    y0=0.0 # Startwert\n",
    "    delta=0.001\n",
    "    while Power2(b,y0)<x:\n",
    "        y0=y0+delta\n",
    "    return y0\n",
    "\n",
    "## Test\n",
    "z = 10**9\n",
    "\n",
    "print z,\"\\t log10=\",log10(z),\"\\t mylog0(z,10)=\",mylog0(z,10)"
   ]
  },
  {
   "cell_type": "markdown",
   "metadata": {},
   "source": [
    "## Mit Integral\n",
    "\n",
    "$ ln(x) = \\int_1^x \\frac{1}{t} dt$"
   ]
  },
  {
   "cell_type": "code",
   "execution_count": 13,
   "metadata": {},
   "outputs": [
    {
     "name": "stdout",
     "output_type": "stream",
     "text": [
      "('ln(4.2)=', 1.4350845252893227, ':', 1.4350845333388988)\n"
     ]
    }
   ],
   "source": [
    "from math import log\n",
    "def integral(f,a,b):\n",
    "    n=10000 # Zahl der Streifen \n",
    "    delta=(b-a)/n # Streifenbreite \n",
    "    s=0.0 # Summe\n",
    "    for i in range(n):\n",
    "        s=s+0.5*(f(a+i*delta)+f(a+(i+1)*delta))*delta\n",
    "    return s\n",
    "\n",
    "def myln(x):\n",
    "    def kehrwert(x): \n",
    "        return 1/x\n",
    "    return integral(kehrwert,1.0,x)\n",
    "\n",
    "print(\"ln(4.2)=\",log(4.2),\":\",myln(4.2))"
   ]
  },
  {
   "cell_type": "markdown",
   "metadata": {},
   "source": [
    "### Bisektionsverfahren"
   ]
  },
  {
   "cell_type": "code",
   "execution_count": 14,
   "metadata": {},
   "outputs": [
    {
     "name": "stdout",
     "output_type": "stream",
     "text": [
      "('Bisektionsnullstelle von f : x=', 3.872981071472168)\n"
     ]
    }
   ],
   "source": [
    "def bisekt(f,a,b):\n",
    "    if f(a)*f(b)>0:\n",
    "        print(\"Kein Vorzeichenwechsel–keine Lösung\")\n",
    "        return\n",
    "    while b-a>0.00001:\n",
    "        m=(a+b)/2.0\n",
    "        if f(m)*f(a)<=0: # Vorzeichenwechsel zw. a und m\n",
    "            b=m          # Neues Intervall a..m\n",
    "        if f(m)*f(b)<=0: # Vorzeichenwechsel zw. m und b\n",
    "            a=m\n",
    "    return (a+b)/2.0\n",
    "  \n",
    "def fu(x): \n",
    "    return x*x-15\n",
    "  \n",
    "print(\"Bisektionsnullstelle von f : x=\",bisekt(fu,0,10))"
   ]
  },
  {
   "cell_type": "code",
   "execution_count": 15,
   "metadata": {},
   "outputs": [
    {
     "name": "stdout",
     "output_type": "stream",
     "text": [
      "Newton: Nullstelle von f : x= 1.0000000000000002\n",
      "pi-Newton: pi= 3.141592653589793\n"
     ]
    }
   ],
   "source": [
    "from math import sin\n",
    "def ableitung(f,x):\n",
    "    h=0.00001\n",
    "    return (f(x+h)-f(x))/h\n",
    "  \n",
    "# Newton\n",
    "# f(x+h)=f(x)+h*f'(x)=0, also h=-f(x)/f'(x)\n",
    "\n",
    "def newton(f,x0):\n",
    "    while abs(f(x0))>1e-15:\n",
    "        x0+=-f(x0)/ableitung(f,x0)\n",
    "    return x0\n",
    "\n",
    "def f(x):\n",
    "    return x*x-1\n",
    "\n",
    "print(\"Newton: Nullstelle von f : x=\",newton(f,20))\n",
    "print(\"pi-Newton: pi=\",newton(sin,3))"
   ]
  },
  {
   "cell_type": "code",
   "execution_count": 3,
   "metadata": {},
   "outputs": [],
   "source": [
    "def ableitung2(f,x):\n",
    "    h=0.00001\n",
    "    return (f(x+h)-f(x-h))/(2*h)"
   ]
  },
  {
   "cell_type": "code",
   "execution_count": 17,
   "metadata": {},
   "outputs": [
    {
     "name": "stdout",
     "output_type": "stream",
     "text": [
      "('cos(x)=', 0.5403023058681398, 'D(sin)(x)=', 0.54030230586255)\n",
      "('cos(x)=', -0.4161468365471424, 'D(sin)(x)=', -0.4161468365404541)\n",
      "('cos(x)=', -0.9899924966004454, 'D(sin)(x)=', -0.9899924965903194)\n",
      "('cos(x)=', -0.6536436208636119, 'D(sin)(x)=', -0.6536436208404162)\n"
     ]
    }
   ],
   "source": [
    "def D(f):\n",
    "    def ableitung(x):\n",
    "        h=0.00001\n",
    "        return (f(x+h)-f(x-h))/(2*h)\n",
    "    return ableitung\n",
    "\n",
    "#Test \n",
    "co_funkt=D(sin)\n",
    "\n",
    "for x in range(1,5):\n",
    "    print(\"cos(x)=\",cos(x),\"D(sin)(x)=\",co_funkt(x))"
   ]
  },
  {
   "cell_type": "code",
   "execution_count": null,
   "metadata": {},
   "outputs": [],
   "source": []
  },
  {
   "cell_type": "code",
   "execution_count": 18,
   "metadata": {},
   "outputs": [
    {
     "name": "stdout",
     "output_type": "stream",
     "text": [
      "('Extremstelle bei ', -1.4999999999999998)\n"
     ]
    }
   ],
   "source": [
    "def f(x):\n",
    "    return x**2 + 3*x - 5\n",
    "\n",
    "print(\"Extremstelle bei \",newton(D(f),0))"
   ]
  },
  {
   "cell_type": "code",
   "execution_count": 19,
   "metadata": {},
   "outputs": [
    {
     "name": "stdout",
     "output_type": "stream",
     "text": [
      "('Nullstellen von f: ', [-4.192581176757801, 1.1925811767578154])\n"
     ]
    }
   ],
   "source": [
    "def nullAuto(f,a,b):\n",
    "    n=1000 # Zahl der Probestellen\n",
    "    nullst=[]\n",
    "    xalt=a\n",
    "    for i in range(1,n):\n",
    "        x=a+(b-a)/1.0/n*i\n",
    "        if f(x)*f(xalt)<=0: # Vorzeichenwechsel gefunden\n",
    "            nullst.append(bisekt(f,xalt,x))\n",
    "        if abs(f(a))<0.1: # auffällig kleiner Wert:\n",
    "            nullst.append(newton(f,x))\n",
    "        xalt=x\n",
    "    return nullst\n",
    "\n",
    "def f(x):\n",
    "    return x**2 + 3*x - 5\n",
    "\n",
    "print(\"Nullstellen von f: \",nullAuto(f,-100,100))\n"
   ]
  },
  {
   "cell_type": "markdown",
   "metadata": {},
   "source": [
    "## Zweite Ableitung"
   ]
  },
  {
   "cell_type": "code",
   "execution_count": 8,
   "metadata": {},
   "outputs": [
    {
     "name": "stdout",
     "output_type": "stream",
     "text": [
      "18*x-4=  -4  numerisch  -4.000000330961483\n",
      "18*x-4=  14  numerisch  14.000001158365192\n",
      "18*x-4=  32  numerisch  32.00003817482865\n",
      "18*x-4=  50  numerisch  50.00003966415533\n",
      "18*x-4=  68  numerisch  67.99950824643018\n"
     ]
    }
   ],
   "source": [
    "def D2(f):\n",
    "    def ableit2(x):\n",
    "        h=0.00001\n",
    "        return (f(x+h)-2*f(x)+f(x-h))/(h*h)\n",
    "    return ableit2\n",
    "\n",
    "### Test\n",
    "def poly(x):\n",
    "    return 3*x**3-2*x**2+x-7\n",
    "def a1poly(x):\n",
    "    return 9*x**2-4*x+1\n",
    "def a2poly(x):\n",
    "    return 18*x-4\n",
    "## Test\n",
    "a2_f = D2(poly)\n",
    "for i in range(5):\n",
    "    print(\"18*x-4= \",a2poly(i), \" numerisch \", a2_f(i))\n",
    "        "
   ]
  },
  {
   "cell_type": "code",
   "execution_count": 14,
   "metadata": {},
   "outputs": [
    {
     "name": "stdout",
     "output_type": "stream",
     "text": [
      "18*x-4=  -4  numerisch  4.000000330972586\n",
      "18*x-4=  14  numerisch  -14.000001158365192\n",
      "18*x-4=  32  numerisch  -32.00003817482866\n",
      "18*x-4=  50  numerisch  -50.00003966415533\n",
      "18*x-4=  68  numerisch  -67.9995082464302\n",
      "18*x-4=  86  numerisch  -85.99954526289366\n",
      "18*x-4=  104  numerisch  -104.00071914773433\n",
      "18*x-4=  122  numerisch  -121.99961929582058\n",
      "18*x-4=  140  numerisch  -140.0030669174157\n",
      "18*x-4=  158  numerisch  -158.00196706550196\n"
     ]
    }
   ],
   "source": [
    "##Musterlösung Oldenburg\n",
    "\n",
    "def D2o(f):\n",
    "    def ableit2(x):\n",
    "        h=0.00001\n",
    "        d1 = (f(x)-f(x-h))/h\n",
    "        d2 = (f(x+h)-f(x))/h\n",
    "        return (d1-d2)/h\n",
    "    return ableit2\n",
    "\n",
    "### Test\n",
    "def poly(x):\n",
    "    return 3*x**3-2*x**2+x-7\n",
    "def a1poly(x):\n",
    "    return 9*x**2-4*x+1\n",
    "def a2poly(x):\n",
    "    return 18*x-4\n",
    "## Test\n",
    "a2_f = D2o(poly)\n",
    "for i in range(10):\n",
    "    print(\"18*x-4= \",a2poly(i), \" numerisch \", a2_f(i))\n",
    "        "
   ]
  },
  {
   "cell_type": "code",
   "execution_count": 19,
   "metadata": {},
   "outputs": [
    {
     "name": "stdout",
     "output_type": "stream",
     "text": [
      "0.6666666457705516\n",
      "0.6666666870902327\n",
      "0.666666658266583\n"
     ]
    }
   ],
   "source": [
    "## Aufgabe 1 Kapitel 8\n",
    "\n",
    "def wende(x):\n",
    "    return x*(x-1)**2\n",
    "\n",
    "a2_f = D2o(wende)\n",
    "\n",
    "print(newton(a2_f,-2))\n",
    "print(newton(a2_f,0))\n",
    "print(newton(a2_f,3))\n"
   ]
  },
  {
   "cell_type": "code",
   "execution_count": 20,
   "metadata": {},
   "outputs": [],
   "source": [
    "from math import *\n",
    "\n",
    "def distanz(a,b):\n",
    "    return sqrt((a[0]-b[0])**2+(a[1]-b[1])**2)\n",
    "    \n",
    "def schwerpunkt(punkte):\n",
    "    x0=y0=0.0\n",
    "    n = len(punkte)\n",
    "    for P in punkte:\n",
    "        x0=x0+P[0]\n",
    "        y0=y0+P[1]\n",
    "    return (x0/n,y0/n)\n",
    "\n",
    "def WeiszmanIteration(P, punkte):\n",
    "    \"\"\"\n",
    "    Return a new approximation to the geometric median \n",
    "    of `points` by applying one iteration of Weiszfeld's \n",
    "    algorithm to the old appromixation P.\n",
    "    \"\"\"\n",
    "    W = x = y = 0.0\n",
    "    for Q in punkte:\n",
    "        d = distanz(P, Q)\n",
    "        if d != 0:\n",
    "            w = 1.0 / d\n",
    "            W += w\n",
    "            x += Q[0] * w\n",
    "            y += Q[1] * w\n",
    "    return x / W, y / W\n",
    "\n",
    "\n",
    "def fermatpunkt(punkte, epsilon):\n",
    "    \"\"\"\n",
    "    Return an approximation to the geometric median for \n",
    "    `points`. Start with the centroid and apply Weiszfeld's \n",
    "    algorithm until the distance between steps is less \n",
    "    than `epsilon`.\n",
    "    \"\"\"\n",
    "    P = schwerpunkt(punkte)\n",
    "    while True:\n",
    "        Q = WeiszmanIteration(P, punkte)\n",
    "        if distanz(P, Q) < epsilon:\n",
    "            return Q\n",
    "        P = Q\n",
    "        \n",
    "        "
   ]
  },
  {
   "cell_type": "code",
   "execution_count": 29,
   "metadata": {},
   "outputs": [
    {
     "name": "stdout",
     "output_type": "stream",
     "text": [
      "(3.0000000000000004, 0.5773502718422101)\n",
      "[-1.0000000000000004, -0.5773502718422101]\n",
      "[0.9999999999999996, -0.5773502718422101]\n",
      "119.99999977202721\n"
     ]
    }
   ],
   "source": [
    "\n",
    "from math import *\n",
    "punkte = [[2,0],[4,0],[3,5]]\n",
    "\n",
    "fermat = fermatpunkt(punkte, 0.00000001)\n",
    "\n",
    "print(fermat)\n",
    "\n",
    "def skalar(v1,v2):\n",
    "    return v1[0]*v2[0]+v1[1]*v2[1]\n",
    "\n",
    "def vect(P,Q):\n",
    "    return [Q[0]-P[0],Q[1]-P[1]]\n",
    "\n",
    "def betrag(v):\n",
    "    return sqrt(v[0]**2+v[1]**2)\n",
    "\n",
    "def winkel(v1,v2):\n",
    "    return acos(skalar(v1,v2)/betrag(v1)/betrag(v2))*180/pi\n",
    "\n",
    "v1 = vect(fermat,punkte[0])\n",
    "print(v1)\n",
    "v2 = vect(fermat,punkte[1])\n",
    "print(v2)\n",
    "print(winkel(v1,v2))\n",
    "     \n",
    "     \n",
    "\n",
    "\n"
   ]
  },
  {
   "cell_type": "code",
   "execution_count": 24,
   "metadata": {},
   "outputs": [
    {
     "data": {
      "text/plain": [
       "3.141592653589793"
      ]
     },
     "execution_count": 24,
     "metadata": {},
     "output_type": "execute_result"
    }
   ],
   "source": [
    "pi"
   ]
  }
 ],
 "metadata": {
  "kernelspec": {
   "display_name": "Python 3",
   "language": "python",
   "name": "python3"
  },
  "language_info": {
   "codemirror_mode": {
    "name": "ipython",
    "version": 3
   },
   "file_extension": ".py",
   "mimetype": "text/x-python",
   "name": "python",
   "nbconvert_exporter": "python",
   "pygments_lexer": "ipython3",
   "version": "3.6.4"
  }
 },
 "nbformat": 4,
 "nbformat_minor": 1
}
